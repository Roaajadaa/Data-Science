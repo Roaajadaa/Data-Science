{
 "cells": [
  {
   "cell_type": "code",
   "execution_count": 295,
   "id": "589744f4",
   "metadata": {},
   "outputs": [],
   "source": [
    "import pandas as pd \n",
    "import seaborn as sns \n",
    "import matplotlib as plt"
   ]
  },
  {
   "cell_type": "code",
   "execution_count": 296,
   "id": "edd52be9",
   "metadata": {},
   "outputs": [],
   "source": [
    "mydatabase = pd.read_csv('forestfires.csv');"
   ]
  },
  {
   "cell_type": "code",
   "execution_count": 341,
   "id": "2cab8d9f",
   "metadata": {},
   "outputs": [
    {
     "data": {
      "text/html": [
       "<div>\n",
       "<style scoped>\n",
       "    .dataframe tbody tr th:only-of-type {\n",
       "        vertical-align: middle;\n",
       "    }\n",
       "\n",
       "    .dataframe tbody tr th {\n",
       "        vertical-align: top;\n",
       "    }\n",
       "\n",
       "    .dataframe thead th {\n",
       "        text-align: right;\n",
       "    }\n",
       "</style>\n",
       "<table border=\"1\" class=\"dataframe\">\n",
       "  <thead>\n",
       "    <tr style=\"text-align: right;\">\n",
       "      <th></th>\n",
       "      <th>X</th>\n",
       "      <th>Y</th>\n",
       "      <th>month</th>\n",
       "      <th>day</th>\n",
       "      <th>FFMC</th>\n",
       "      <th>DMC</th>\n",
       "      <th>DC</th>\n",
       "      <th>ISI</th>\n",
       "      <th>temp</th>\n",
       "      <th>RH</th>\n",
       "      <th>wind</th>\n",
       "      <th>rain</th>\n",
       "      <th>area</th>\n",
       "      <th>y</th>\n",
       "    </tr>\n",
       "  </thead>\n",
       "  <tbody>\n",
       "    <tr>\n",
       "      <th>0</th>\n",
       "      <td>7</td>\n",
       "      <td>5</td>\n",
       "      <td>mar</td>\n",
       "      <td>fri</td>\n",
       "      <td>49.9</td>\n",
       "      <td>2.54</td>\n",
       "      <td>12.76</td>\n",
       "      <td>0.46</td>\n",
       "      <td>4.04</td>\n",
       "      <td>16.8</td>\n",
       "      <td>0.80</td>\n",
       "      <td>0.00</td>\n",
       "      <td>0.000</td>\n",
       "      <td>2.0</td>\n",
       "    </tr>\n",
       "    <tr>\n",
       "      <th>1</th>\n",
       "      <td>7</td>\n",
       "      <td>4</td>\n",
       "      <td>oct</td>\n",
       "      <td>tue</td>\n",
       "      <td>49.9</td>\n",
       "      <td>2.54</td>\n",
       "      <td>12.76</td>\n",
       "      <td>0.46</td>\n",
       "      <td>4.04</td>\n",
       "      <td>16.8</td>\n",
       "      <td>0.80</td>\n",
       "      <td>0.00</td>\n",
       "      <td>0.000</td>\n",
       "      <td>2.0</td>\n",
       "    </tr>\n",
       "    <tr>\n",
       "      <th>2</th>\n",
       "      <td>7</td>\n",
       "      <td>4</td>\n",
       "      <td>oct</td>\n",
       "      <td>sat</td>\n",
       "      <td>49.9</td>\n",
       "      <td>2.54</td>\n",
       "      <td>12.76</td>\n",
       "      <td>0.46</td>\n",
       "      <td>4.04</td>\n",
       "      <td>16.8</td>\n",
       "      <td>0.80</td>\n",
       "      <td>0.00</td>\n",
       "      <td>0.000</td>\n",
       "      <td>2.0</td>\n",
       "    </tr>\n",
       "    <tr>\n",
       "      <th>3</th>\n",
       "      <td>8</td>\n",
       "      <td>6</td>\n",
       "      <td>mar</td>\n",
       "      <td>fri</td>\n",
       "      <td>49.9</td>\n",
       "      <td>2.54</td>\n",
       "      <td>12.76</td>\n",
       "      <td>0.46</td>\n",
       "      <td>4.04</td>\n",
       "      <td>16.8</td>\n",
       "      <td>0.80</td>\n",
       "      <td>0.00</td>\n",
       "      <td>0.000</td>\n",
       "      <td>2.0</td>\n",
       "    </tr>\n",
       "    <tr>\n",
       "      <th>4</th>\n",
       "      <td>8</td>\n",
       "      <td>6</td>\n",
       "      <td>mar</td>\n",
       "      <td>sun</td>\n",
       "      <td>49.9</td>\n",
       "      <td>2.54</td>\n",
       "      <td>12.76</td>\n",
       "      <td>0.46</td>\n",
       "      <td>4.04</td>\n",
       "      <td>16.8</td>\n",
       "      <td>0.80</td>\n",
       "      <td>0.00</td>\n",
       "      <td>0.000</td>\n",
       "      <td>2.0</td>\n",
       "    </tr>\n",
       "    <tr>\n",
       "      <th>...</th>\n",
       "      <td>...</td>\n",
       "      <td>...</td>\n",
       "      <td>...</td>\n",
       "      <td>...</td>\n",
       "      <td>...</td>\n",
       "      <td>...</td>\n",
       "      <td>...</td>\n",
       "      <td>...</td>\n",
       "      <td>...</td>\n",
       "      <td>...</td>\n",
       "      <td>...</td>\n",
       "      <td>...</td>\n",
       "      <td>...</td>\n",
       "      <td>...</td>\n",
       "    </tr>\n",
       "    <tr>\n",
       "      <th>512</th>\n",
       "      <td>4</td>\n",
       "      <td>3</td>\n",
       "      <td>aug</td>\n",
       "      <td>sun</td>\n",
       "      <td>96.1</td>\n",
       "      <td>288.42</td>\n",
       "      <td>851.84</td>\n",
       "      <td>20.96</td>\n",
       "      <td>32.14</td>\n",
       "      <td>93.4</td>\n",
       "      <td>8.94</td>\n",
       "      <td>0.64</td>\n",
       "      <td>214.918</td>\n",
       "      <td>8.8</td>\n",
       "    </tr>\n",
       "    <tr>\n",
       "      <th>513</th>\n",
       "      <td>2</td>\n",
       "      <td>4</td>\n",
       "      <td>aug</td>\n",
       "      <td>sun</td>\n",
       "      <td>96.1</td>\n",
       "      <td>288.42</td>\n",
       "      <td>851.84</td>\n",
       "      <td>20.96</td>\n",
       "      <td>32.14</td>\n",
       "      <td>93.4</td>\n",
       "      <td>8.94</td>\n",
       "      <td>0.64</td>\n",
       "      <td>214.918</td>\n",
       "      <td>8.8</td>\n",
       "    </tr>\n",
       "    <tr>\n",
       "      <th>514</th>\n",
       "      <td>7</td>\n",
       "      <td>4</td>\n",
       "      <td>aug</td>\n",
       "      <td>sun</td>\n",
       "      <td>96.1</td>\n",
       "      <td>288.42</td>\n",
       "      <td>851.84</td>\n",
       "      <td>20.96</td>\n",
       "      <td>32.14</td>\n",
       "      <td>93.4</td>\n",
       "      <td>8.94</td>\n",
       "      <td>0.64</td>\n",
       "      <td>214.918</td>\n",
       "      <td>8.8</td>\n",
       "    </tr>\n",
       "    <tr>\n",
       "      <th>515</th>\n",
       "      <td>1</td>\n",
       "      <td>4</td>\n",
       "      <td>aug</td>\n",
       "      <td>sat</td>\n",
       "      <td>94.4</td>\n",
       "      <td>146.00</td>\n",
       "      <td>614.70</td>\n",
       "      <td>11.30</td>\n",
       "      <td>25.60</td>\n",
       "      <td>42.0</td>\n",
       "      <td>4.00</td>\n",
       "      <td>0.00</td>\n",
       "      <td>0.000</td>\n",
       "      <td>4.0</td>\n",
       "    </tr>\n",
       "    <tr>\n",
       "      <th>516</th>\n",
       "      <td>6</td>\n",
       "      <td>3</td>\n",
       "      <td>nov</td>\n",
       "      <td>tue</td>\n",
       "      <td>79.5</td>\n",
       "      <td>3.00</td>\n",
       "      <td>106.70</td>\n",
       "      <td>1.10</td>\n",
       "      <td>11.80</td>\n",
       "      <td>31.0</td>\n",
       "      <td>4.50</td>\n",
       "      <td>0.00</td>\n",
       "      <td>0.000</td>\n",
       "      <td>3.0</td>\n",
       "    </tr>\n",
       "  </tbody>\n",
       "</table>\n",
       "<p>517 rows × 14 columns</p>\n",
       "</div>"
      ],
      "text/plain": [
       "     X  Y month  day  FFMC     DMC      DC    ISI   temp    RH  wind  rain  \\\n",
       "0    7  5   mar  fri  49.9    2.54   12.76   0.46   4.04  16.8  0.80  0.00   \n",
       "1    7  4   oct  tue  49.9    2.54   12.76   0.46   4.04  16.8  0.80  0.00   \n",
       "2    7  4   oct  sat  49.9    2.54   12.76   0.46   4.04  16.8  0.80  0.00   \n",
       "3    8  6   mar  fri  49.9    2.54   12.76   0.46   4.04  16.8  0.80  0.00   \n",
       "4    8  6   mar  sun  49.9    2.54   12.76   0.46   4.04  16.8  0.80  0.00   \n",
       "..  .. ..   ...  ...   ...     ...     ...    ...    ...   ...   ...   ...   \n",
       "512  4  3   aug  sun  96.1  288.42  851.84  20.96  32.14  93.4  8.94  0.64   \n",
       "513  2  4   aug  sun  96.1  288.42  851.84  20.96  32.14  93.4  8.94  0.64   \n",
       "514  7  4   aug  sun  96.1  288.42  851.84  20.96  32.14  93.4  8.94  0.64   \n",
       "515  1  4   aug  sat  94.4  146.00  614.70  11.30  25.60  42.0  4.00  0.00   \n",
       "516  6  3   nov  tue  79.5    3.00  106.70   1.10  11.80  31.0  4.50  0.00   \n",
       "\n",
       "        area    y  \n",
       "0      0.000  2.0  \n",
       "1      0.000  2.0  \n",
       "2      0.000  2.0  \n",
       "3      0.000  2.0  \n",
       "4      0.000  2.0  \n",
       "..       ...  ...  \n",
       "512  214.918  8.8  \n",
       "513  214.918  8.8  \n",
       "514  214.918  8.8  \n",
       "515    0.000  4.0  \n",
       "516    0.000  3.0  \n",
       "\n",
       "[517 rows x 14 columns]"
      ]
     },
     "execution_count": 341,
     "metadata": {},
     "output_type": "execute_result"
    }
   ],
   "source": [
    "mydatabase"
   ]
  },
  {
   "cell_type": "code",
   "execution_count": 298,
   "id": "fffcc874",
   "metadata": {},
   "outputs": [
    {
     "data": {
      "text/plain": [
       "X        False\n",
       "Y        False\n",
       "month    False\n",
       "day      False\n",
       "FFMC     False\n",
       "DMC      False\n",
       "DC       False\n",
       "ISI      False\n",
       "temp     False\n",
       "RH       False\n",
       "wind     False\n",
       "rain     False\n",
       "area     False\n",
       "dtype: bool"
      ]
     },
     "execution_count": 298,
     "metadata": {},
     "output_type": "execute_result"
    }
   ],
   "source": [
    " mydatabase.isnull().any()\n",
    "#Cheack if any Value is NaN in Varibles\n"
   ]
  },
  {
   "cell_type": "code",
   "execution_count": 299,
   "id": "15c38053",
   "metadata": {},
   "outputs": [
    {
     "data": {
      "text/plain": [
       "X          int64\n",
       "Y          int64\n",
       "month     object\n",
       "day       object\n",
       "FFMC     float64\n",
       "DMC      float64\n",
       "DC       float64\n",
       "ISI      float64\n",
       "temp     float64\n",
       "RH         int64\n",
       "wind     float64\n",
       "rain     float64\n",
       "area     float64\n",
       "dtype: object"
      ]
     },
     "execution_count": 299,
     "metadata": {},
     "output_type": "execute_result"
    }
   ],
   "source": [
    "mydatabase.dtypes\n",
    "#Data Type for each Varible in dataframe"
   ]
  },
  {
   "cell_type": "code",
   "execution_count": 300,
   "id": "ac68840e",
   "metadata": {},
   "outputs": [
    {
     "data": {
      "text/html": [
       "<div>\n",
       "<style scoped>\n",
       "    .dataframe tbody tr th:only-of-type {\n",
       "        vertical-align: middle;\n",
       "    }\n",
       "\n",
       "    .dataframe tbody tr th {\n",
       "        vertical-align: top;\n",
       "    }\n",
       "\n",
       "    .dataframe thead th {\n",
       "        text-align: right;\n",
       "    }\n",
       "</style>\n",
       "<table border=\"1\" class=\"dataframe\">\n",
       "  <thead>\n",
       "    <tr style=\"text-align: right;\">\n",
       "      <th>col_0</th>\n",
       "      <th>count</th>\n",
       "    </tr>\n",
       "    <tr>\n",
       "      <th>month</th>\n",
       "      <th></th>\n",
       "    </tr>\n",
       "  </thead>\n",
       "  <tbody>\n",
       "    <tr>\n",
       "      <th>apr</th>\n",
       "      <td>9</td>\n",
       "    </tr>\n",
       "    <tr>\n",
       "      <th>aug</th>\n",
       "      <td>184</td>\n",
       "    </tr>\n",
       "    <tr>\n",
       "      <th>dec</th>\n",
       "      <td>9</td>\n",
       "    </tr>\n",
       "    <tr>\n",
       "      <th>feb</th>\n",
       "      <td>20</td>\n",
       "    </tr>\n",
       "    <tr>\n",
       "      <th>jan</th>\n",
       "      <td>2</td>\n",
       "    </tr>\n",
       "    <tr>\n",
       "      <th>jul</th>\n",
       "      <td>32</td>\n",
       "    </tr>\n",
       "    <tr>\n",
       "      <th>jun</th>\n",
       "      <td>17</td>\n",
       "    </tr>\n",
       "    <tr>\n",
       "      <th>mar</th>\n",
       "      <td>54</td>\n",
       "    </tr>\n",
       "    <tr>\n",
       "      <th>may</th>\n",
       "      <td>2</td>\n",
       "    </tr>\n",
       "    <tr>\n",
       "      <th>nov</th>\n",
       "      <td>1</td>\n",
       "    </tr>\n",
       "    <tr>\n",
       "      <th>oct</th>\n",
       "      <td>15</td>\n",
       "    </tr>\n",
       "    <tr>\n",
       "      <th>sep</th>\n",
       "      <td>172</td>\n",
       "    </tr>\n",
       "  </tbody>\n",
       "</table>\n",
       "</div>"
      ],
      "text/plain": [
       "col_0  count\n",
       "month       \n",
       "apr        9\n",
       "aug      184\n",
       "dec        9\n",
       "feb       20\n",
       "jan        2\n",
       "jul       32\n",
       "jun       17\n",
       "mar       54\n",
       "may        2\n",
       "nov        1\n",
       "oct       15\n",
       "sep      172"
      ]
     },
     "execution_count": 300,
     "metadata": {},
     "output_type": "execute_result"
    }
   ],
   "source": [
    "frequencytable = pd.crosstab(index=mydatabase['month'], columns='count')\n",
    "#frequency table of month varible \n",
    "frequencytable"
   ]
  },
  {
   "cell_type": "code",
   "execution_count": 301,
   "id": "5c7c6f58",
   "metadata": {},
   "outputs": [],
   "source": [
    " proportion = frequencytable/frequencytable['count'].sum()\n",
    "# Frequency Table In Proportion  "
   ]
  },
  {
   "cell_type": "code",
   "execution_count": 302,
   "id": "38ad5ecb",
   "metadata": {},
   "outputs": [
    {
     "data": {
      "text/html": [
       "<div>\n",
       "<style scoped>\n",
       "    .dataframe tbody tr th:only-of-type {\n",
       "        vertical-align: middle;\n",
       "    }\n",
       "\n",
       "    .dataframe tbody tr th {\n",
       "        vertical-align: top;\n",
       "    }\n",
       "\n",
       "    .dataframe thead th {\n",
       "        text-align: right;\n",
       "    }\n",
       "</style>\n",
       "<table border=\"1\" class=\"dataframe\">\n",
       "  <thead>\n",
       "    <tr style=\"text-align: right;\">\n",
       "      <th>col_0</th>\n",
       "      <th>count</th>\n",
       "    </tr>\n",
       "    <tr>\n",
       "      <th>month</th>\n",
       "      <th></th>\n",
       "    </tr>\n",
       "  </thead>\n",
       "  <tbody>\n",
       "    <tr>\n",
       "      <th>apr</th>\n",
       "      <td>1.740812</td>\n",
       "    </tr>\n",
       "    <tr>\n",
       "      <th>aug</th>\n",
       "      <td>35.589942</td>\n",
       "    </tr>\n",
       "    <tr>\n",
       "      <th>dec</th>\n",
       "      <td>1.740812</td>\n",
       "    </tr>\n",
       "    <tr>\n",
       "      <th>feb</th>\n",
       "      <td>3.868472</td>\n",
       "    </tr>\n",
       "    <tr>\n",
       "      <th>jan</th>\n",
       "      <td>0.386847</td>\n",
       "    </tr>\n",
       "    <tr>\n",
       "      <th>jul</th>\n",
       "      <td>6.189555</td>\n",
       "    </tr>\n",
       "    <tr>\n",
       "      <th>jun</th>\n",
       "      <td>3.288201</td>\n",
       "    </tr>\n",
       "    <tr>\n",
       "      <th>mar</th>\n",
       "      <td>10.444874</td>\n",
       "    </tr>\n",
       "    <tr>\n",
       "      <th>may</th>\n",
       "      <td>0.386847</td>\n",
       "    </tr>\n",
       "    <tr>\n",
       "      <th>nov</th>\n",
       "      <td>0.193424</td>\n",
       "    </tr>\n",
       "    <tr>\n",
       "      <th>oct</th>\n",
       "      <td>2.901354</td>\n",
       "    </tr>\n",
       "    <tr>\n",
       "      <th>sep</th>\n",
       "      <td>33.268859</td>\n",
       "    </tr>\n",
       "  </tbody>\n",
       "</table>\n",
       "</div>"
      ],
      "text/plain": [
       "col_0      count\n",
       "month           \n",
       "apr     1.740812\n",
       "aug    35.589942\n",
       "dec     1.740812\n",
       "feb     3.868472\n",
       "jan     0.386847\n",
       "jul     6.189555\n",
       "jun     3.288201\n",
       "mar    10.444874\n",
       "may     0.386847\n",
       "nov     0.193424\n",
       "oct     2.901354\n",
       "sep    33.268859"
      ]
     },
     "execution_count": 302,
     "metadata": {},
     "output_type": "execute_result"
    }
   ],
   "source": [
    " proportion * 100"
   ]
  },
  {
   "cell_type": "code",
   "execution_count": 303,
   "id": "4abd9f30",
   "metadata": {},
   "outputs": [
    {
     "data": {
      "text/html": [
       "<div>\n",
       "<style scoped>\n",
       "    .dataframe tbody tr th:only-of-type {\n",
       "        vertical-align: middle;\n",
       "    }\n",
       "\n",
       "    .dataframe tbody tr th {\n",
       "        vertical-align: top;\n",
       "    }\n",
       "\n",
       "    .dataframe thead th {\n",
       "        text-align: right;\n",
       "    }\n",
       "</style>\n",
       "<table border=\"1\" class=\"dataframe\">\n",
       "  <thead>\n",
       "    <tr style=\"text-align: right;\">\n",
       "      <th></th>\n",
       "      <th>FFMC</th>\n",
       "      <th>DMC</th>\n",
       "      <th>DC</th>\n",
       "      <th>ISI</th>\n",
       "      <th>temp</th>\n",
       "      <th>RH</th>\n",
       "      <th>wind</th>\n",
       "      <th>rain</th>\n",
       "      <th>area</th>\n",
       "      <th>X</th>\n",
       "      <th>y</th>\n",
       "    </tr>\n",
       "  </thead>\n",
       "  <tbody>\n",
       "    <tr>\n",
       "      <th>0</th>\n",
       "      <td>86.2</td>\n",
       "      <td>26.2</td>\n",
       "      <td>94.3</td>\n",
       "      <td>5.1</td>\n",
       "      <td>8.2</td>\n",
       "      <td>51</td>\n",
       "      <td>6.7</td>\n",
       "      <td>0.0</td>\n",
       "      <td>0.00</td>\n",
       "      <td>7</td>\n",
       "      <td>5</td>\n",
       "    </tr>\n",
       "    <tr>\n",
       "      <th>1</th>\n",
       "      <td>90.6</td>\n",
       "      <td>35.4</td>\n",
       "      <td>669.1</td>\n",
       "      <td>6.7</td>\n",
       "      <td>18.0</td>\n",
       "      <td>33</td>\n",
       "      <td>0.9</td>\n",
       "      <td>0.0</td>\n",
       "      <td>0.00</td>\n",
       "      <td>7</td>\n",
       "      <td>4</td>\n",
       "    </tr>\n",
       "    <tr>\n",
       "      <th>2</th>\n",
       "      <td>90.6</td>\n",
       "      <td>43.7</td>\n",
       "      <td>686.9</td>\n",
       "      <td>6.7</td>\n",
       "      <td>14.6</td>\n",
       "      <td>33</td>\n",
       "      <td>1.3</td>\n",
       "      <td>0.0</td>\n",
       "      <td>0.00</td>\n",
       "      <td>7</td>\n",
       "      <td>4</td>\n",
       "    </tr>\n",
       "    <tr>\n",
       "      <th>3</th>\n",
       "      <td>91.7</td>\n",
       "      <td>33.3</td>\n",
       "      <td>77.5</td>\n",
       "      <td>9.0</td>\n",
       "      <td>8.3</td>\n",
       "      <td>97</td>\n",
       "      <td>4.0</td>\n",
       "      <td>0.2</td>\n",
       "      <td>0.00</td>\n",
       "      <td>8</td>\n",
       "      <td>6</td>\n",
       "    </tr>\n",
       "    <tr>\n",
       "      <th>4</th>\n",
       "      <td>89.3</td>\n",
       "      <td>51.3</td>\n",
       "      <td>102.2</td>\n",
       "      <td>9.6</td>\n",
       "      <td>11.4</td>\n",
       "      <td>99</td>\n",
       "      <td>1.8</td>\n",
       "      <td>0.0</td>\n",
       "      <td>0.00</td>\n",
       "      <td>8</td>\n",
       "      <td>6</td>\n",
       "    </tr>\n",
       "    <tr>\n",
       "      <th>...</th>\n",
       "      <td>...</td>\n",
       "      <td>...</td>\n",
       "      <td>...</td>\n",
       "      <td>...</td>\n",
       "      <td>...</td>\n",
       "      <td>...</td>\n",
       "      <td>...</td>\n",
       "      <td>...</td>\n",
       "      <td>...</td>\n",
       "      <td>...</td>\n",
       "      <td>...</td>\n",
       "    </tr>\n",
       "    <tr>\n",
       "      <th>512</th>\n",
       "      <td>81.6</td>\n",
       "      <td>56.7</td>\n",
       "      <td>665.6</td>\n",
       "      <td>1.9</td>\n",
       "      <td>27.8</td>\n",
       "      <td>32</td>\n",
       "      <td>2.7</td>\n",
       "      <td>0.0</td>\n",
       "      <td>6.44</td>\n",
       "      <td>4</td>\n",
       "      <td>3</td>\n",
       "    </tr>\n",
       "    <tr>\n",
       "      <th>513</th>\n",
       "      <td>81.6</td>\n",
       "      <td>56.7</td>\n",
       "      <td>665.6</td>\n",
       "      <td>1.9</td>\n",
       "      <td>21.9</td>\n",
       "      <td>71</td>\n",
       "      <td>5.8</td>\n",
       "      <td>0.0</td>\n",
       "      <td>54.29</td>\n",
       "      <td>2</td>\n",
       "      <td>4</td>\n",
       "    </tr>\n",
       "    <tr>\n",
       "      <th>514</th>\n",
       "      <td>81.6</td>\n",
       "      <td>56.7</td>\n",
       "      <td>665.6</td>\n",
       "      <td>1.9</td>\n",
       "      <td>21.2</td>\n",
       "      <td>70</td>\n",
       "      <td>6.7</td>\n",
       "      <td>0.0</td>\n",
       "      <td>11.16</td>\n",
       "      <td>7</td>\n",
       "      <td>4</td>\n",
       "    </tr>\n",
       "    <tr>\n",
       "      <th>515</th>\n",
       "      <td>94.4</td>\n",
       "      <td>146.0</td>\n",
       "      <td>614.7</td>\n",
       "      <td>11.3</td>\n",
       "      <td>25.6</td>\n",
       "      <td>42</td>\n",
       "      <td>4.0</td>\n",
       "      <td>0.0</td>\n",
       "      <td>0.00</td>\n",
       "      <td>1</td>\n",
       "      <td>4</td>\n",
       "    </tr>\n",
       "    <tr>\n",
       "      <th>516</th>\n",
       "      <td>79.5</td>\n",
       "      <td>3.0</td>\n",
       "      <td>106.7</td>\n",
       "      <td>1.1</td>\n",
       "      <td>11.8</td>\n",
       "      <td>31</td>\n",
       "      <td>4.5</td>\n",
       "      <td>0.0</td>\n",
       "      <td>0.00</td>\n",
       "      <td>6</td>\n",
       "      <td>3</td>\n",
       "    </tr>\n",
       "  </tbody>\n",
       "</table>\n",
       "<p>517 rows × 11 columns</p>\n",
       "</div>"
      ],
      "text/plain": [
       "     FFMC    DMC     DC   ISI  temp  RH  wind  rain   area  X  y\n",
       "0    86.2   26.2   94.3   5.1   8.2  51   6.7   0.0   0.00  7  5\n",
       "1    90.6   35.4  669.1   6.7  18.0  33   0.9   0.0   0.00  7  4\n",
       "2    90.6   43.7  686.9   6.7  14.6  33   1.3   0.0   0.00  7  4\n",
       "3    91.7   33.3   77.5   9.0   8.3  97   4.0   0.2   0.00  8  6\n",
       "4    89.3   51.3  102.2   9.6  11.4  99   1.8   0.0   0.00  8  6\n",
       "..    ...    ...    ...   ...   ...  ..   ...   ...    ... .. ..\n",
       "512  81.6   56.7  665.6   1.9  27.8  32   2.7   0.0   6.44  4  3\n",
       "513  81.6   56.7  665.6   1.9  21.9  71   5.8   0.0  54.29  2  4\n",
       "514  81.6   56.7  665.6   1.9  21.2  70   6.7   0.0  11.16  7  4\n",
       "515  94.4  146.0  614.7  11.3  25.6  42   4.0   0.0   0.00  1  4\n",
       "516  79.5    3.0  106.7   1.1  11.8  31   4.5   0.0   0.00  6  3\n",
       "\n",
       "[517 rows x 11 columns]"
      ]
     },
     "execution_count": 303,
     "metadata": {},
     "output_type": "execute_result"
    }
   ],
   "source": [
    "numricvarible = mydatabase.iloc[0 : 517 , 4 :13 ]\n",
    "numricvarible[\"X\"] = mydatabase[\"X\"]\n",
    "numricvarible[\"y\"] = mydatabase[\"Y\"]\n",
    "numricvarible"
   ]
  },
  {
   "cell_type": "code",
   "execution_count": 304,
   "id": "30aa02ae",
   "metadata": {},
   "outputs": [
    {
     "data": {
      "text/plain": [
       "<AxesSubplot:>"
      ]
     },
     "execution_count": 304,
     "metadata": {},
     "output_type": "execute_result"
    },
    {
     "data": {
      "image/png": "[encoded data removed]",
      "text/plain": [
       "<Figure size 432x288 with 2 Axes>"
      ]
     },
     "metadata": {
      "needs_background": "light"
     },
     "output_type": "display_data"
    }
   ],
   "source": [
    "#heatmap for numric value in dataset to better visualize \n",
    "sns.heatmap(numricvarible)"
   ]
  },
  {
   "cell_type": "code",
   "execution_count": 305,
   "id": "2dcfc86a",
   "metadata": {},
   "outputs": [
    {
     "data": {
      "text/plain": [
       "<AxesSubplot:>"
      ]
     },
     "execution_count": 305,
     "metadata": {},
     "output_type": "execute_result"
    },
    {
     "data": {
      "image/png": "[encoded data removed]",
      "text/plain": [
       "<Figure size 432x288 with 2 Axes>"
      ]
     },
     "metadata": {
      "needs_background": "light"
     },
     "output_type": "display_data"
    }
   ],
   "source": [
    "#for clear view i will reduce the row in each column \n",
    "numricvarible.iloc[0:50 , 0 : 11]\n",
    "sns.heatmap(numricvarible.iloc[0:50 , 0 : 11])"
   ]
  },
  {
   "cell_type": "code",
   "execution_count": 306,
   "id": "b80872d1",
   "metadata": {},
   "outputs": [
    {
     "name": "stdout",
     "output_type": "stream",
     "text": [
      "dont have a noisy\n"
     ]
    }
   ],
   "source": [
    "# The nosiy data bigger than upper fence (Q3 + (1.5 * IQR))\n",
    "# The nosiy data smaller than lower fence (Q1-(1.5*IQR))\n",
    "if ((mydatabase['X'] > 13).all() or (mydatabase['X'] < -3 ).all()) :\n",
    "    print(\"you have a noisy  \")\n",
    "else:\n",
    "    print(\"dont have a noisy\")"
   ]
  },
  {
   "cell_type": "code",
   "execution_count": 307,
   "id": "f328141e",
   "metadata": {},
   "outputs": [],
   "source": [
    "col = numricvarible.columns"
   ]
  },
  {
   "cell_type": "code",
   "execution_count": 308,
   "id": "bc3f6a92",
   "metadata": {},
   "outputs": [
    {
     "data": {
      "text/plain": [
       "Index(['FFMC', 'DMC', 'DC', 'ISI', 'temp', 'RH', 'wind', 'rain', 'area', 'X',\n",
       "       'y'],\n",
       "      dtype='object')"
      ]
     },
     "execution_count": 308,
     "metadata": {},
     "output_type": "execute_result"
    }
   ],
   "source": [
    "col"
   ]
  },
  {
   "cell_type": "code",
   "execution_count": 309,
   "id": "872783a5",
   "metadata": {},
   "outputs": [
    {
     "data": {
      "text/html": [
       "<div>\n",
       "<style scoped>\n",
       "    .dataframe tbody tr th:only-of-type {\n",
       "        vertical-align: middle;\n",
       "    }\n",
       "\n",
       "    .dataframe tbody tr th {\n",
       "        vertical-align: top;\n",
       "    }\n",
       "\n",
       "    .dataframe thead th {\n",
       "        text-align: right;\n",
       "    }\n",
       "</style>\n",
       "<table border=\"1\" class=\"dataframe\">\n",
       "  <thead>\n",
       "    <tr style=\"text-align: right;\">\n",
       "      <th></th>\n",
       "      <th>FFMC</th>\n",
       "      <th>DMC</th>\n",
       "      <th>DC</th>\n",
       "      <th>ISI</th>\n",
       "      <th>temp</th>\n",
       "      <th>RH</th>\n",
       "      <th>wind</th>\n",
       "      <th>rain</th>\n",
       "      <th>area</th>\n",
       "      <th>X</th>\n",
       "      <th>y</th>\n",
       "    </tr>\n",
       "  </thead>\n",
       "  <tbody>\n",
       "    <tr>\n",
       "      <th>0</th>\n",
       "      <td>86.2</td>\n",
       "      <td>26.2</td>\n",
       "      <td>94.3</td>\n",
       "      <td>5.1</td>\n",
       "      <td>8.2</td>\n",
       "      <td>51</td>\n",
       "      <td>6.7</td>\n",
       "      <td>0.0</td>\n",
       "      <td>0.00</td>\n",
       "      <td>7</td>\n",
       "      <td>5</td>\n",
       "    </tr>\n",
       "    <tr>\n",
       "      <th>1</th>\n",
       "      <td>90.6</td>\n",
       "      <td>35.4</td>\n",
       "      <td>669.1</td>\n",
       "      <td>6.7</td>\n",
       "      <td>18.0</td>\n",
       "      <td>33</td>\n",
       "      <td>0.9</td>\n",
       "      <td>0.0</td>\n",
       "      <td>0.00</td>\n",
       "      <td>7</td>\n",
       "      <td>4</td>\n",
       "    </tr>\n",
       "    <tr>\n",
       "      <th>2</th>\n",
       "      <td>90.6</td>\n",
       "      <td>43.7</td>\n",
       "      <td>686.9</td>\n",
       "      <td>6.7</td>\n",
       "      <td>14.6</td>\n",
       "      <td>33</td>\n",
       "      <td>1.3</td>\n",
       "      <td>0.0</td>\n",
       "      <td>0.00</td>\n",
       "      <td>7</td>\n",
       "      <td>4</td>\n",
       "    </tr>\n",
       "    <tr>\n",
       "      <th>3</th>\n",
       "      <td>91.7</td>\n",
       "      <td>33.3</td>\n",
       "      <td>77.5</td>\n",
       "      <td>9.0</td>\n",
       "      <td>8.3</td>\n",
       "      <td>97</td>\n",
       "      <td>4.0</td>\n",
       "      <td>0.2</td>\n",
       "      <td>0.00</td>\n",
       "      <td>8</td>\n",
       "      <td>6</td>\n",
       "    </tr>\n",
       "    <tr>\n",
       "      <th>4</th>\n",
       "      <td>89.3</td>\n",
       "      <td>51.3</td>\n",
       "      <td>102.2</td>\n",
       "      <td>9.6</td>\n",
       "      <td>11.4</td>\n",
       "      <td>99</td>\n",
       "      <td>1.8</td>\n",
       "      <td>0.0</td>\n",
       "      <td>0.00</td>\n",
       "      <td>8</td>\n",
       "      <td>6</td>\n",
       "    </tr>\n",
       "    <tr>\n",
       "      <th>...</th>\n",
       "      <td>...</td>\n",
       "      <td>...</td>\n",
       "      <td>...</td>\n",
       "      <td>...</td>\n",
       "      <td>...</td>\n",
       "      <td>...</td>\n",
       "      <td>...</td>\n",
       "      <td>...</td>\n",
       "      <td>...</td>\n",
       "      <td>...</td>\n",
       "      <td>...</td>\n",
       "    </tr>\n",
       "    <tr>\n",
       "      <th>512</th>\n",
       "      <td>81.6</td>\n",
       "      <td>56.7</td>\n",
       "      <td>665.6</td>\n",
       "      <td>1.9</td>\n",
       "      <td>27.8</td>\n",
       "      <td>32</td>\n",
       "      <td>2.7</td>\n",
       "      <td>0.0</td>\n",
       "      <td>6.44</td>\n",
       "      <td>4</td>\n",
       "      <td>3</td>\n",
       "    </tr>\n",
       "    <tr>\n",
       "      <th>513</th>\n",
       "      <td>81.6</td>\n",
       "      <td>56.7</td>\n",
       "      <td>665.6</td>\n",
       "      <td>1.9</td>\n",
       "      <td>21.9</td>\n",
       "      <td>71</td>\n",
       "      <td>5.8</td>\n",
       "      <td>0.0</td>\n",
       "      <td>54.29</td>\n",
       "      <td>2</td>\n",
       "      <td>4</td>\n",
       "    </tr>\n",
       "    <tr>\n",
       "      <th>514</th>\n",
       "      <td>81.6</td>\n",
       "      <td>56.7</td>\n",
       "      <td>665.6</td>\n",
       "      <td>1.9</td>\n",
       "      <td>21.2</td>\n",
       "      <td>70</td>\n",
       "      <td>6.7</td>\n",
       "      <td>0.0</td>\n",
       "      <td>11.16</td>\n",
       "      <td>7</td>\n",
       "      <td>4</td>\n",
       "    </tr>\n",
       "    <tr>\n",
       "      <th>515</th>\n",
       "      <td>94.4</td>\n",
       "      <td>146.0</td>\n",
       "      <td>614.7</td>\n",
       "      <td>11.3</td>\n",
       "      <td>25.6</td>\n",
       "      <td>42</td>\n",
       "      <td>4.0</td>\n",
       "      <td>0.0</td>\n",
       "      <td>0.00</td>\n",
       "      <td>1</td>\n",
       "      <td>4</td>\n",
       "    </tr>\n",
       "    <tr>\n",
       "      <th>516</th>\n",
       "      <td>79.5</td>\n",
       "      <td>3.0</td>\n",
       "      <td>106.7</td>\n",
       "      <td>1.1</td>\n",
       "      <td>11.8</td>\n",
       "      <td>31</td>\n",
       "      <td>4.5</td>\n",
       "      <td>0.0</td>\n",
       "      <td>0.00</td>\n",
       "      <td>6</td>\n",
       "      <td>3</td>\n",
       "    </tr>\n",
       "  </tbody>\n",
       "</table>\n",
       "<p>517 rows × 11 columns</p>\n",
       "</div>"
      ],
      "text/plain": [
       "     FFMC    DMC     DC   ISI  temp  RH  wind  rain   area  X  y\n",
       "0    86.2   26.2   94.3   5.1   8.2  51   6.7   0.0   0.00  7  5\n",
       "1    90.6   35.4  669.1   6.7  18.0  33   0.9   0.0   0.00  7  4\n",
       "2    90.6   43.7  686.9   6.7  14.6  33   1.3   0.0   0.00  7  4\n",
       "3    91.7   33.3   77.5   9.0   8.3  97   4.0   0.2   0.00  8  6\n",
       "4    89.3   51.3  102.2   9.6  11.4  99   1.8   0.0   0.00  8  6\n",
       "..    ...    ...    ...   ...   ...  ..   ...   ...    ... .. ..\n",
       "512  81.6   56.7  665.6   1.9  27.8  32   2.7   0.0   6.44  4  3\n",
       "513  81.6   56.7  665.6   1.9  21.9  71   5.8   0.0  54.29  2  4\n",
       "514  81.6   56.7  665.6   1.9  21.2  70   6.7   0.0  11.16  7  4\n",
       "515  94.4  146.0  614.7  11.3  25.6  42   4.0   0.0   0.00  1  4\n",
       "516  79.5    3.0  106.7   1.1  11.8  31   4.5   0.0   0.00  6  3\n",
       "\n",
       "[517 rows x 11 columns]"
      ]
     },
     "execution_count": 309,
     "metadata": {},
     "output_type": "execute_result"
    }
   ],
   "source": [
    "numricvarible\n"
   ]
  },
  {
   "cell_type": "code",
   "execution_count": 310,
   "id": "f818245b",
   "metadata": {},
   "outputs": [],
   "source": [
    "# After we made sure that there is noisy data in this \n",
    "#variable and based on the information given about the average values \n",
    "#that should be in this variable , we need smooth data in it ."
   ]
  },
  {
   "cell_type": "code",
   "execution_count": 311,
   "id": "b656c4da",
   "metadata": {},
   "outputs": [
    {
     "data": {
      "text/plain": [
       "379    18.7\n",
       "312    50.4\n",
       "299    53.4\n",
       "199    63.5\n",
       "12     63.5\n",
       "       ... \n",
       "497    96.1\n",
       "500    96.1\n",
       "501    96.1\n",
       "496    96.2\n",
       "495    96.2\n",
       "Name: FFMC, Length: 517, dtype: float64"
      ]
     },
     "execution_count": 311,
     "metadata": {},
     "output_type": "execute_result"
    }
   ],
   "source": [
    "sortedcol = numricvarible[\"FFMC\"].sort_values()\n",
    "sortedcol"
   ]
  },
  {
   "cell_type": "code",
   "execution_count": 312,
   "id": "60273f2f",
   "metadata": {},
   "outputs": [
    {
     "name": "stderr",
     "output_type": "stream",
     "text": [
      "C:\\Users\\IMOE001\\AppData\\Local\\Temp/ipykernel_6224/3638868006.py:5: SettingWithCopyWarning: \n",
      "A value is trying to be set on a copy of a slice from a DataFrame\n",
      "\n",
      "See the caveats in the documentation: https://pandas.pydata.org/pandas-docs/stable/user_guide/indexing.html#returning-a-view-versus-a-copy\n",
      "  numricvarible[\"FFMC\"][start_index:end_index] = mean #replacement for orginal values\n"
     ]
    },
    {
     "name": "stdout",
     "output_type": "stream",
     "text": [
      "Bin number 0 has mean of 49.9\n",
      "Bin number 1 has mean of 73.38\n",
      "Bin number 2 has mean of 80.72\n",
      "Bin number 3 has mean of 81.75999999999999\n",
      "Bin number 4 has mean of 83.76\n",
      "Bin number 5 has mean of 84.23999999999998\n",
      "Bin number 6 has mean of 84.53999999999999\n",
      "Bin number 7 has mean of 84.82000000000001\n",
      "Bin number 8 has mean of 85.12\n",
      "Bin number 9 has mean of 85.44000000000001\n",
      "Bin number 10 has mean of 86.02000000000001\n",
      "Bin number 11 has mean of 86.8\n",
      "Bin number 12 has mean of 87.34\n",
      "Bin number 13 has mean of 87.66\n",
      "Bin number 14 has mean of 88.04\n",
      "Bin number 15 has mean of 88.17999999999999\n",
      "Bin number 16 has mean of 88.64\n",
      "Bin number 17 has mean of 88.97999999999999\n",
      "Bin number 18 has mean of 89.3\n",
      "Bin number 19 has mean of 89.52000000000001\n",
      "Bin number 20 has mean of 89.67999999999999\n",
      "Bin number 21 has mean of 89.97999999999999\n",
      "Bin number 22 has mean of 90.1\n",
      "Bin number 23 has mean of 90.1\n",
      "Bin number 24 has mean of 90.2\n",
      "Bin number 25 has mean of 90.2\n",
      "Bin number 26 has mean of 90.26\n",
      "Bin number 27 has mean of 90.33999999999999\n",
      "Bin number 28 has mean of 90.46000000000001\n",
      "Bin number 29 has mean of 90.58\n",
      "Bin number 30 has mean of 90.61999999999999\n",
      "Bin number 31 has mean of 90.72\n",
      "Bin number 32 has mean of 90.88\n",
      "Bin number 33 has mean of 90.9\n",
      "Bin number 34 has mean of 91.0\n",
      "Bin number 35 has mean of 91.0\n",
      "Bin number 36 has mean of 91.0\n",
      "Bin number 37 has mean of 91.0\n",
      "Bin number 38 has mean of 91.06000000000002\n",
      "Bin number 39 has mean of 91.1\n",
      "Bin number 40 has mean of 91.16\n",
      "Bin number 41 has mean of 91.2\n",
      "Bin number 42 has mean of 91.26000000000002\n",
      "Bin number 43 has mean of 91.4\n",
      "Bin number 44 has mean of 91.4\n",
      "Bin number 45 has mean of 91.5\n",
      "Bin number 46 has mean of 91.52000000000001\n",
      "Bin number 47 has mean of 91.6\n",
      "Bin number 48 has mean of 91.6\n",
      "Bin number 49 has mean of 91.6\n",
      "Bin number 50 has mean of 91.6\n",
      "Bin number 51 has mean of 91.6\n",
      "Bin number 52 has mean of 91.66\n",
      "Bin number 53 has mean of 91.7\n",
      "Bin number 54 has mean of 91.7\n",
      "Bin number 55 has mean of 91.7\n",
      "Bin number 56 has mean of 91.78\n",
      "Bin number 57 has mean of 91.8\n",
      "Bin number 58 has mean of 91.9\n",
      "Bin number 59 has mean of 92.0\n",
      "Bin number 60 has mean of 92.1\n",
      "Bin number 61 has mean of 92.1\n",
      "Bin number 62 has mean of 92.1\n",
      "Bin number 63 has mean of 92.1\n",
      "Bin number 64 has mean of 92.1\n",
      "Bin number 65 has mean of 92.16\n",
      "Bin number 66 has mean of 92.2\n",
      "Bin number 67 has mean of 92.28\n",
      "Bin number 68 has mean of 92.35999999999999\n",
      "Bin number 69 has mean of 92.4\n",
      "Bin number 70 has mean of 92.4\n",
      "Bin number 71 has mean of 92.44000000000001\n",
      "Bin number 72 has mean of 92.5\n",
      "Bin number 73 has mean of 92.5\n",
      "Bin number 74 has mean of 92.54\n",
      "Bin number 75 has mean of 92.66\n",
      "Bin number 76 has mean of 92.8\n",
      "Bin number 77 has mean of 92.9\n",
      "Bin number 78 has mean of 92.9\n",
      "Bin number 79 has mean of 92.96000000000001\n",
      "Bin number 80 has mean of 93.1\n",
      "Bin number 81 has mean of 93.17999999999999\n",
      "Bin number 82 has mean of 93.32000000000001\n",
      "Bin number 83 has mean of 93.4\n",
      "Bin number 84 has mean of 93.5\n",
      "Bin number 85 has mean of 93.5\n",
      "Bin number 86 has mean of 93.6\n",
      "Bin number 87 has mean of 93.7\n",
      "Bin number 88 has mean of 93.7\n",
      "Bin number 89 has mean of 93.7\n",
      "Bin number 90 has mean of 93.98\n",
      "Bin number 91 has mean of 94.24000000000001\n",
      "Bin number 92 has mean of 94.3\n",
      "Bin number 93 has mean of 94.4\n",
      "Bin number 94 has mean of 94.72\n",
      "Bin number 95 has mean of 94.8\n",
      "Bin number 96 has mean of 94.8\n",
      "Bin number 97 has mean of 94.9\n",
      "Bin number 98 has mean of 95.1\n",
      "Bin number 99 has mean of 95.2\n",
      "Bin number 100 has mean of 95.44\n",
      "Bin number 101 has mean of 95.97999999999999\n",
      "Bin number 102 has mean of 96.1\n"
     ]
    }
   ],
   "source": [
    "for bin_number in range(103):\n",
    "    start_index = bin_number * 5\n",
    "    end_index = start_index + 5\n",
    "    mean =sortedcol[start_index:end_index].mean()\n",
    "    numricvarible[\"FFMC\"][start_index:end_index] = mean #replacement for orginal values\n",
    "    print('Bin number',bin_number,'has mean of',mean)\n",
    "    \n",
    "mydatabase[\"FFMC\"] = numricvarible[\"FFMC\"]"
   ]
  },
  {
   "cell_type": "code",
   "execution_count": 313,
   "id": "1266302a",
   "metadata": {},
   "outputs": [
    {
     "name": "stdout",
     "output_type": "stream",
     "text": [
      "Bin number 0 has mean of  2.54\n",
      "Bin number 1 has mean of  4.140000000000001\n",
      "Bin number 2 has mean of  6.720000000000001\n",
      "Bin number 3 has mean of  8.82\n",
      "Bin number 4 has mean of  11.96\n",
      "Bin number 5 has mean of  15.5\n",
      "Bin number 6 has mean of  18.04\n",
      "Bin number 7 has mean of  20.0\n",
      "Bin number 8 has mean of  24.28\n",
      "Bin number 9 has mean of  25.4\n",
      "Bin number 10 has mean of  25.8\n",
      "Bin number 11 has mean of  27.04\n",
      "Bin number 12 has mean of  29.439999999999998\n",
      "Bin number 13 has mean of  33.2\n",
      "Bin number 14 has mean of  35.64\n",
      "Bin number 15 has mean of  36.16\n",
      "Bin number 16 has mean of  38.98\n",
      "Bin number 17 has mean of  42.1\n",
      "Bin number 18 has mean of  45.38\n",
      "Bin number 19 has mean of  47.86\n",
      "Bin number 20 has mean of  48.86\n",
      "Bin number 21 has mean of  50.8\n",
      "Bin number 22 has mean of  51.48\n",
      "Bin number 23 has mean of  52.42\n",
      "Bin number 24 has mean of  56.339999999999996\n",
      "Bin number 25 has mean of  61.85999999999999\n",
      "Bin number 26 has mean of  71.1\n",
      "Bin number 27 has mean of  74.16\n",
      "Bin number 28 has mean of  77.62\n",
      "Bin number 29 has mean of  80.82000000000001\n",
      "Bin number"
     ]
    },
    {
     "name": "stderr",
     "output_type": "stream",
     "text": [
      "C:\\Users\\IMOE001\\AppData\\Local\\Temp/ipykernel_6224/2437049933.py:6: SettingWithCopyWarning: \n",
      "A value is trying to be set on a copy of a slice from a DataFrame\n",
      "\n",
      "See the caveats in the documentation: https://pandas.pydata.org/pandas-docs/stable/user_guide/indexing.html#returning-a-view-versus-a-copy\n",
      "  numricvarible[\"DMC\"][start_index:end_index] = mean #replacement for orginal values\n"
     ]
    },
    {
     "name": "stdout",
     "output_type": "stream",
     "text": [
      " 30 has mean of  82.05999999999999\n",
      "Bin number 31 has mean of  83.97999999999999\n",
      "Bin number 32 has mean of  85.03999999999999\n",
      "Bin number 33 has mean of  85.22\n",
      "Bin number 34 has mean of  87.94\n",
      "Bin number 35 has mean of  88.97999999999999\n",
      "Bin number 36 has mean of  90.34\n",
      "Bin number 37 has mean of  91.66\n",
      "Bin number 38 has mean of  93.38\n",
      "Bin number 39 has mean of  95.05999999999999\n",
      "Bin number 40 has mean of  96.41999999999999\n",
      "Bin number 41 has mean of  97.1\n",
      "Bin number 42 has mean of  99.0\n",
      "Bin number 43 has mean of  99.0\n",
      "Bin number 44 has mean of  99.6\n",
      "Bin number 45 has mean of  100.17999999999999\n",
      "Bin number 46 has mean of  101.88000000000001\n",
      "Bin number 47 has mean of  102.47999999999999\n",
      "Bin number 48 has mean of  103.85999999999999\n",
      "Bin number 49 has mean of  104.84\n",
      "Bin number 50 has mean of  107.17999999999999\n",
      "Bin number 51 has mean of  108.3\n",
      "Bin number 52 has mean of  108.38\n",
      "Bin number 53 has mean of  109.06000000000002\n",
      "Bin number 54 has mean of  111.2\n",
      "Bin number 55 has mean of  111.6\n",
      "Bin number 56 has mean of  113.54\n",
      "Bin number 57 has mean of  115.36000000000001\n",
      "Bin number 58 has mean of  117.75999999999999\n",
      "Bin number 59 has mean of  118.55999999999999\n",
      "Bin number 60 has mean of  120.26000000000002\n",
      "Bin number 61 has mean of  121.41999999999999\n",
      "Bin number 62 has mean of  122.05999999999999\n",
      "Bin number 63 has mean of  124.16\n",
      "Bin number 64 has mean of  126.08\n",
      "Bin number 65 has mean of  127.22\n",
      "Bin number 66 has mean of  129.5\n",
      "Bin number 67 has mean of  129.74\n",
      "Bin number 68 has mean of  130.17999999999998\n",
      "Bin number 69 has mean of  131.42\n",
      "Bin number 70 has mean of  132.58\n",
      "Bin number 71 has mean of  133.64000000000001\n",
      "Bin number 72 has mean of  136.16\n",
      "Bin number 73 has mean of  137.0\n",
      "Bin number 74 has mean of  138.66\n",
      "Bin number 75 has mean of  140.1\n",
      "Bin number 76 has mean of  141.26\n",
      "Bin number 77 has mean of  141.95999999999998\n",
      "Bin number 78 has mean of  142.4\n",
      "Bin number 79 has mean of  145.4\n",
      "Bin number 80 has mean of  146.66\n",
      "Bin number 81 has mean of  149.0\n",
      "Bin number 82 has mean of  150.70000000000002\n",
      "Bin number 83 has mean of  152.6\n",
      "Bin number 84 has mean of  157.3\n",
      "Bin number 85 has mean of  160.64000000000001\n",
      "Bin number 86 has mean of  166.33999999999997\n",
      "Bin number 87 has mean of  169.2\n",
      "Bin number 88 has mean of  175.18\n",
      "Bin number 89 has mean of  179.07999999999998\n",
      "Bin number 90 has mean of  181.1\n",
      "Bin number 91 has mean of  181.3\n",
      "Bin number 92 has mean of  190.82\n",
      "Bin number 93 has mean of  202.68\n",
      "Bin number 94 has mean of  210.16\n",
      "Bin number 95 has mean of  220.51999999999998\n",
      "Bin number 96 has mean of  226.9\n",
      "Bin number 97 has mean of  231.1\n",
      "Bin number 98 has mean of  234.11999999999998\n",
      "Bin number 99 has mean of  248.4\n",
      "Bin number 100 has mean of  265.3\n",
      "Bin number 101 has mean of  275.8\n",
      "Bin number 102 has mean of  288.41999999999996\n"
     ]
    }
   ],
   "source": [
    "sortedcol = numricvarible[\"DMC\"].sort_values()\n",
    "for bin_number in range(103):\n",
    "    start_index=bin_number*5\n",
    "    end_index=start_index+5\n",
    "    mean =sortedcol[start_index:end_index].mean()\n",
    "    numricvarible[\"DMC\"][start_index:end_index] = mean #replacement for orginal values\n",
    "    print('Bin number',bin_number,'has mean of ',mean)\n",
    "    \n",
    "mydatabase[\"DMC\"] = numricvarible[\"DMC\"]"
   ]
  },
  {
   "cell_type": "code",
   "execution_count": 314,
   "id": "5c60086e",
   "metadata": {},
   "outputs": [
    {
     "name": "stdout",
     "output_type": "stream",
     "text": [
      "Bin number 0 has mean of  12.76\n",
      "Bin number 1 has mean of  20.459999999999997\n",
      "Bin number 2 has mean of  27.8\n",
      "Bin number 3 has mean of  32.84\n",
      "Bin number 4 has mean of  42.44\n",
      "Bin number 5 has mean of  46.980000000000004\n",
      "Bin number 6 has mean of  55.459999999999994\n",
      "Bin number 7 has mean of  60.459999999999994\n",
      "Bin number 8 has mean of  68.24\n",
      "Bin number 9 has mean of  76.1\n",
      "Bin number 10 has mean of  80.14000000000001\n",
      "Bin number 11 has mean of  82.28\n",
      "Bin number 12 has mean of  86.72\n",
      "Bin number 13 has mean of  94.20000000000002\n",
      "Bin number 14 has mean of  99.41999999999999\n",
      "Bin number 15 has mean of  102.2\n",
      "Bin number 16 has mean of  103.8\n",
      "Bin number 17 has mean of  164.18\n",
      "Bin number 18 has mean of  248.28000000000003\n",
      "Bin number 19 has mean of  296.12\n",
      "Bin number 20 has mean of  317.56\n",
      "Bin number 21 has mean of  349.8\n",
      "Bin number 22 has mean of  353.23999999999995\n",
      "Bin number 23 has mean of  368.80000000000007\n",
      "Bin number 24 has mean of  415.53999999999996\n",
      "Bin number 25 has mean of  432.84\n",
      "Bin number 26 has mean of  446.98\n",
      "Bin number 27 has mean of  469.86\n",
      "Bin number 28 has mean of  477.25999999999993\n",
      "Bin number 29 has mean of  497.7\n",
      "Bin number 30 has mean of  526.16\n",
      "Bin number 31 has mean of  554.78\n",
      "Bin number 32 has mean of  569.8399999999999\n",
      "Bin number 33 has mean of  578.2\n",
      "Bin number 34 has mean of  584.5400000000001\n",
      "Bin number"
     ]
    },
    {
     "name": "stderr",
     "output_type": "stream",
     "text": [
      "C:\\Users\\IMOE001\\AppData\\Local\\Temp/ipykernel_6224/145460590.py:7: SettingWithCopyWarning: \n",
      "A value is trying to be set on a copy of a slice from a DataFrame\n",
      "\n",
      "See the caveats in the documentation: https://pandas.pydata.org/pandas-docs/stable/user_guide/indexing.html#returning-a-view-versus-a-copy\n",
      "  numricvarible[\"DC\"][start_index:end_index] = mean #replacement for orginal values\n"
     ]
    },
    {
     "name": "stdout",
     "output_type": "stream",
     "text": [
      " 35 has mean of  590.5\n",
      "Bin number 36 has mean of  597.5\n",
      "Bin number 37 has mean of  601.4\n",
      "Bin number 38 has mean of  604.8199999999999\n",
      "Bin number 39 has mean of  607.0199999999999\n",
      "Bin number 40 has mean of  611.36\n",
      "Bin number 41 has mean of  613.9\n",
      "Bin number 42 has mean of  621.78\n",
      "Bin number 43 has mean of  627.9799999999999\n",
      "Bin number 44 has mean of  631.6800000000001\n",
      "Bin number 45 has mean of  636.6\n",
      "Bin number 46 has mean of  644.64\n",
      "Bin number 47 has mean of  647.1\n",
      "Bin number 48 has mean of  653.26\n",
      "Bin number 49 has mean of  656.5600000000001\n",
      "Bin number 50 has mean of  659.4399999999999\n",
      "Bin number 51 has mean of  662.6600000000001\n",
      "Bin number 52 has mean of  664.82\n",
      "Bin number 53 has mean of  665.82\n",
      "Bin number 54 has mean of  666.96\n",
      "Bin number 55 has mean of  668.0\n",
      "Bin number 56 has mean of  670.36\n",
      "Bin number 57 has mean of  671.48\n",
      "Bin number 58 has mean of  672.4599999999999\n",
      "Bin number 59 has mean of  674.1600000000001\n",
      "Bin number 60 has mean of  678.18\n",
      "Bin number 61 has mean of  682.76\n",
      "Bin number 62 has mean of  685.98\n",
      "Bin number 63 has mean of  686.58\n",
      "Bin number 64 has mean of  688.4\n",
      "Bin number 65 has mean of  691.0800000000002\n",
      "Bin number 66 has mean of  692.3\n",
      "Bin number 67 has mean of  692.4199999999998\n",
      "Bin number 68 has mean of  692.6\n",
      "Bin number 69 has mean of  694.4399999999999\n",
      "Bin number 70 has mean of  698.6\n",
      "Bin number 71 has mean of  699.0\n",
      "Bin number 72 has mean of  700.04\n",
      "Bin number 73 has mean of  702.9200000000001\n",
      "Bin number 74 has mean of  706.4\n",
      "Bin number 75 has mean of  706.5600000000001\n",
      "Bin number 76 has mean of  708.6400000000001\n",
      "Bin number 77 has mean of  713.8\n",
      "Bin number 78 has mean of  714.78\n",
      "Bin number 79 has mean of  715.1\n",
      "Bin number 80 has mean of  720.72\n",
      "Bin number 81 has mean of  723.82\n",
      "Bin number 82 has mean of  727.56\n",
      "Bin number 83 has mean of  729.24\n",
      "Bin number 84 has mean of  733.2\n",
      "Bin number 85 has mean of  738.1400000000001\n",
      "Bin number 86 has mean of  744.5799999999999\n",
      "Bin number 87 has mean of  745.3\n",
      "Bin number 88 has mean of  746.3399999999999\n",
      "Bin number 89 has mean of  751.3\n",
      "Bin number 90 has mean of  752.16\n",
      "Bin number 91 has mean of  753.32\n",
      "Bin number 92 has mean of  756.3799999999999\n",
      "Bin number 93 has mean of  762.8199999999999\n",
      "Bin number 94 has mean of  766.14\n",
      "Bin number 95 has mean of  773.0199999999999\n",
      "Bin number 96 has mean of  783.5\n",
      "Bin number 97 has mean of  789.7\n",
      "Bin number 98 has mean of  799.38\n",
      "Bin number 99 has mean of  807.9200000000001\n",
      "Bin number 100 has mean of  815.9799999999999\n",
      "Bin number 101 has mean of  824.64\n",
      "Bin number 102 has mean of  851.8399999999999\n"
     ]
    }
   ],
   "source": [
    "sortedcol = numricvarible[\"DC\"].sort_values()\n",
    "sortedcol\n",
    "for bin_number in range(103):\n",
    "    start_index=bin_number*5\n",
    "    end_index=start_index+5\n",
    "    mean = sortedcol[start_index:end_index].mean()\n",
    "    numricvarible[\"DC\"][start_index:end_index] = mean #replacement for orginal values\n",
    "    print('Bin number',bin_number,'has mean of ',mean)\n",
    "\n",
    "    \n",
    "mydatabase[\"DC\"] = numricvarible[\"DC\"]\n"
   ]
  },
  {
   "cell_type": "code",
   "execution_count": 315,
   "id": "c7c4e589",
   "metadata": {},
   "outputs": [
    {
     "name": "stdout",
     "output_type": "stream",
     "text": [
      "Bin number 0 has mean of  0.45999999999999996\n",
      "Bin number 1 has mean of  1.2\n",
      "Bin number 2 has mean of  1.9\n",
      "Bin number 3 has mean of  2.06\n",
      "Bin number 4 has mean of  2.54\n",
      "Bin number 5 has mean of  2.66\n",
      "Bin number 6 has mean of  2.88\n",
      "Bin number 7 has mean of  3.1199999999999997\n",
      "Bin number 8 has mean of  3.38\n",
      "Bin number 9 has mean of  3.7\n",
      "Bin number 10 has mean of  3.84\n",
      "Bin number 11 has mean of  4.08\n",
      "Bin number 12 has mean of  4.82\n",
      "Bin number 13 has mean of  5.0\n",
      "Bin number 14 has mean of  5.159999999999999\n",
      "Bin number 15 has mean of  5.359999999999999\n",
      "Bin number 16 has mean of  5.619999999999999\n",
      "Bin number 17 has mean of  5.76\n",
      "Bin number 18 has mean of  6.2\n",
      "Bin number 19 has mean of  6.2\n",
      "Bin number 20 has mean of  6.2\n",
      "Bin number 21 has mean of  6.28\n",
      "Bin number 22 has mean of  6.3\n",
      "Bin number 23 has mean of  6.3\n",
      "Bin number 24 has mean of  6.3\n",
      "Bin number 25 has mean of  6.4\n",
      "Bin number 26 has mean of  6.5600000000000005\n",
      "Bin number 27 has mean of  6.720000000000001\n",
      "Bin number 28 has mean of  6.8\n",
      "Bin number 29 has mean of  7.0\n",
      "Bin number 30 has mean of  7.0\n"
     ]
    },
    {
     "name": "stderr",
     "output_type": "stream",
     "text": [
      "C:\\Users\\IMOE001\\AppData\\Local\\Temp/ipykernel_6224/3449393708.py:7: SettingWithCopyWarning: \n",
      "A value is trying to be set on a copy of a slice from a DataFrame\n",
      "\n",
      "See the caveats in the documentation: https://pandas.pydata.org/pandas-docs/stable/user_guide/indexing.html#returning-a-view-versus-a-copy\n",
      "  numricvarible[\"ISI\"][start_index:end_index] = mean #replacement for orginal values\n"
     ]
    },
    {
     "name": "stdout",
     "output_type": "stream",
     "text": [
      "Bin number 31 has mean of  7.0\n",
      "Bin number 32 has mean of  7.0600000000000005\n",
      "Bin number 33 has mean of  7.1\n",
      "Bin number 34 has mean of  7.1\n",
      "Bin number 35 has mean of  7.1\n",
      "Bin number 36 has mean of  7.139999999999999\n",
      "Bin number 37 has mean of  7.260000000000001\n",
      "Bin number 38 has mean of  7.44\n",
      "Bin number 39 has mean of  7.5\n",
      "Bin number 40 has mean of  7.5\n",
      "Bin number 41 has mean of  7.5600000000000005\n",
      "Bin number 42 has mean of  7.659999999999999\n",
      "Bin number 43 has mean of  7.76\n",
      "Bin number 44 has mean of  7.8\n",
      "Bin number 45 has mean of  7.82\n",
      "Bin number 46 has mean of  8.02\n",
      "Bin number 47 has mean of  8.1\n",
      "Bin number 48 has mean of  8.1\n",
      "Bin number 49 has mean of  8.179999999999998\n",
      "Bin number 50 has mean of  8.379999999999999\n",
      "Bin number 51 has mean of  8.4\n",
      "Bin number 52 has mean of  8.4\n",
      "Bin number 53 has mean of  8.440000000000001\n",
      "Bin number 54 has mean of  8.5\n",
      "Bin number 55 has mean of  8.56\n",
      "Bin number 56 has mean of  8.62\n",
      "Bin number 57 has mean of  8.780000000000001\n",
      "Bin number 58 has mean of  8.879999999999999\n",
      "Bin number 59 has mean of  8.940000000000001\n",
      "Bin number 60 has mean of  9.0\n",
      "Bin number 61 has mean of  9.0\n",
      "Bin number 62 has mean of  9.2\n",
      "Bin number 63 has mean of  9.2\n",
      "Bin number 64 has mean of  9.2\n",
      "Bin number 65 has mean of  9.48\n",
      "Bin number 66 has mean of  9.6\n",
      "Bin number 67 has mean of  9.6\n",
      "Bin number 68 has mean of  9.6\n",
      "Bin number 69 has mean of  9.6\n",
      "Bin number 70 has mean of  9.66\n",
      "Bin number 71 has mean of  9.9\n",
      "Bin number 72 has mean of  10.02\n",
      "Bin number 73 has mean of  10.179999999999998\n",
      "Bin number 74 has mean of  10.36\n",
      "Bin number 75 has mean of  10.6\n",
      "Bin number 76 has mean of  10.64\n",
      "Bin number 77 has mean of  10.84\n",
      "Bin number 78 has mean of  11.040000000000001\n",
      "Bin number 79 has mean of  11.34\n",
      "Bin number 80 has mean of  11.739999999999998\n",
      "Bin number 81 has mean of  12.059999999999999\n",
      "Bin number 82 has mean of  12.2\n",
      "Bin number 83 has mean of  12.38\n",
      "Bin number 84 has mean of  12.5\n",
      "Bin number 85 has mean of  12.86\n",
      "Bin number 86 has mean of  13.440000000000001\n",
      "Bin number 87 has mean of  13.7\n",
      "Bin number 88 has mean of  13.84\n",
      "Bin number 89 has mean of  13.9\n",
      "Bin number 90 has mean of  14.040000000000001\n",
      "Bin number 91 has mean of  14.26\n",
      "Bin number 92 has mean of  14.3\n",
      "Bin number 93 has mean of  14.38\n",
      "Bin number 94 has mean of  14.779999999999998\n",
      "Bin number 95 has mean of  15.74\n",
      "Bin number 96 has mean of  16.259999999999998\n",
      "Bin number 97 has mean of  16.880000000000003\n",
      "Bin number 98 has mean of  17.0\n",
      "Bin number 99 has mean of  17.7\n",
      "Bin number 100 has mean of  17.939999999999998\n",
      "Bin number 101 has mean of  19.259999999999998\n",
      "Bin number 102 has mean of  20.96\n"
     ]
    }
   ],
   "source": [
    "sortedcol = numricvarible[\"ISI\"].sort_values()\n",
    "sortedcol\n",
    "for bin_number in range(103):\n",
    "    start_index=bin_number*5\n",
    "    end_index=start_index+5\n",
    "    mean = sortedcol[start_index:end_index].mean()\n",
    "    numricvarible[\"ISI\"][start_index:end_index] = mean #replacement for orginal values\n",
    "    print('Bin number',bin_number,'has mean of ',mean)\n",
    "    \n",
    "mydatabase[\"ISI\"] = numricvarible[\"ISI\"]\n"
   ]
  },
  {
   "cell_type": "code",
   "execution_count": 316,
   "id": "9f3ccb5d",
   "metadata": {},
   "outputs": [
    {
     "name": "stdout",
     "output_type": "stream",
     "text": [
      "Bin number 0 has mean of  4.04\n",
      "Bin number 1 has mean of  4.739999999999999\n",
      "Bin number 2 has mean of  5.119999999999999\n",
      "Bin number 3 has mean of  5.4399999999999995\n",
      "Bin number 4 has mean of  7.1\n",
      "Bin number 5 has mean of  8.34\n",
      "Bin number 6 has mean of  8.959999999999999\n",
      "Bin number 7 has mean of  10.059999999999999\n",
      "Bin number 8 has mean of  10.42\n",
      "Bin number 9 has mean of  10.82\n",
      "Bin number 10 has mean of  11.179999999999998\n",
      "Bin number 11 has mean of  11.440000000000001\n",
      "Bin number 12 has mean of  11.66\n",
      "Bin number 13 has mean of  12.059999999999999\n",
      "Bin number 14 has mean of  12.5\n",
      "Bin number 15 has mean of  12.879999999999999\n",
      "Bin number 16 has mean of  13.319999999999999\n",
      "Bin number 17 has mean of  13.739999999999998\n",
      "Bin number 18 has mean of  13.88\n",
      "Bin number 19 has mean of  14.180000000000001\n",
      "Bin number 20 has mean of  14.38\n",
      "Bin number 21 has mean of  14.66\n",
      "Bin number 22 has mean of  14.919999999999998\n",
      "Bin number 23 has mean of  15.2\n",
      "Bin number 24 has mean of  15.36\n",
      "Bin number 25 has mean of  15.440000000000001\n",
      "Bin number 26 has mean of  15.679999999999998\n",
      "Bin number 27 has mean of  15.88\n",
      "Bin number 28 has mean of  16.0\n",
      "Bin number 29 has mean of  16.22\n",
      "Bin number 30 has mean of  16.48\n",
      "Bin number 31 has mean of  16.64\n",
      "Bin number 32 has mean of  16.8\n",
      "Bin number 33 has mean of  16.94\n",
      "Bin number 34 has mean of  17.080000000000002\n",
      "Bin number 35 has mean of  17.24\n",
      "Bin number 36 has mean of  17.380000000000003\n",
      "Bin number 37 has mean of  17.439999999999998\n",
      "Bin number 38 has mean of  17.62\n",
      "Bin number 39 has mean of  17.72\n",
      "Bin number 40 has mean of  17.8\n",
      "Bin number 41 has mean of  17.939999999999998\n",
      "Bin number 42 has mean of  18.1\n",
      "Bin number 43 has mean of  18.22\n",
      "Bin number 44 has mean of  18.380000000000003\n"
     ]
    },
    {
     "name": "stderr",
     "output_type": "stream",
     "text": [
      "C:\\Users\\IMOE001\\AppData\\Local\\Temp/ipykernel_6224/1832707405.py:7: SettingWithCopyWarning: \n",
      "A value is trying to be set on a copy of a slice from a DataFrame\n",
      "\n",
      "See the caveats in the documentation: https://pandas.pydata.org/pandas-docs/stable/user_guide/indexing.html#returning-a-view-versus-a-copy\n",
      "  numricvarible[\"temp\"][start_index:end_index] = mean #replacement for orginal values\n"
     ]
    },
    {
     "name": "stdout",
     "output_type": "stream",
     "text": [
      "Bin number 45 has mean of  18.560000000000002\n",
      "Bin number 46 has mean of  18.7\n",
      "Bin number 47 has mean of  18.860000000000003\n",
      "Bin number 48 has mean of  18.939999999999998\n",
      "Bin number 49 has mean of  19.080000000000002\n",
      "Bin number 50 has mean of  19.160000000000004\n",
      "Bin number 51 has mean of  19.279999999999998\n",
      "Bin number 52 has mean of  19.360000000000003\n",
      "Bin number 53 has mean of  19.48\n",
      "Bin number 54 has mean of  19.6\n",
      "Bin number 55 has mean of  19.660000000000004\n",
      "Bin number 56 has mean of  19.82\n",
      "Bin number 57 has mean of  20.060000000000002\n",
      "Bin number 58 has mean of  20.160000000000004\n",
      "Bin number 59 has mean of  20.32\n",
      "Bin number 60 has mean of  20.4\n",
      "Bin number 61 has mean of  20.560000000000002\n",
      "Bin number 62 has mean of  20.62\n",
      "Bin number 63 has mean of  20.7\n",
      "Bin number 64 has mean of  20.8\n",
      "Bin number 65 has mean of  20.919999999999998\n",
      "Bin number 66 has mean of  21.080000000000002\n",
      "Bin number 67 has mean of  21.22\n",
      "Bin number 68 has mean of  21.340000000000003\n",
      "Bin number 69 has mean of  21.46\n",
      "Bin number 70 has mean of  21.580000000000002\n",
      "Bin number 71 has mean of  21.660000000000004\n",
      "Bin number 72 has mean of  21.840000000000003\n",
      "Bin number 73 has mean of  21.939999999999998\n",
      "Bin number 74 has mean of  22.140000000000004\n",
      "Bin number 75 has mean of  22.32\n",
      "Bin number 76 has mean of  22.62\n",
      "Bin number 77 has mean of  22.8\n",
      "Bin number 78 has mean of  22.919999999999998\n",
      "Bin number 79 has mean of  23.1\n",
      "Bin number 80 has mean of  23.3\n",
      "Bin number 81 has mean of  23.4\n",
      "Bin number 82 has mean of  23.54\n",
      "Bin number 83 has mean of  23.74\n",
      "Bin number 84 has mean of  23.880000000000003\n",
      "Bin number 85 has mean of  24.080000000000002\n",
      "Bin number 86 has mean of  24.18\n",
      "Bin number 87 has mean of  24.279999999999998\n",
      "Bin number 88 has mean of  24.52\n",
      "Bin number 89 has mean of  24.78\n",
      "Bin number 90 has mean of  25.119999999999997\n",
      "Bin number 91 has mean of  25.439999999999998\n",
      "Bin number 92 has mean of  25.860000000000003\n",
      "Bin number 93 has mean of  26.24\n",
      "Bin number 94 has mean of  26.459999999999997\n",
      "Bin number 95 has mean of  26.840000000000003\n",
      "Bin number 96 has mean of  27.380000000000003\n",
      "Bin number 97 has mean of  27.74\n",
      "Bin number 98 has mean of  28.0\n",
      "Bin number 99 has mean of  28.52\n",
      "Bin number 100 has mean of  29.439999999999998\n",
      "Bin number 101 has mean of  30.52\n",
      "Bin number 102 has mean of  32.14\n"
     ]
    }
   ],
   "source": [
    "sortedcol = numricvarible[\"temp\"].sort_values()\n",
    "sortedcol\n",
    "for bin_number in range(103):\n",
    "    start_index=bin_number*5\n",
    "    end_index=start_index+5\n",
    "    mean = sortedcol[start_index:end_index].mean()\n",
    "    numricvarible[\"temp\"][start_index:end_index] = mean #replacement for orginal values\n",
    "    print('Bin number',bin_number,'has mean of ',mean)\n",
    "    \n",
    "mydatabase[\"temp\"] = numricvarible[\"temp\"]\n"
   ]
  },
  {
   "cell_type": "code",
   "execution_count": 317,
   "id": "c1e6b5bd",
   "metadata": {},
   "outputs": [
    {
     "name": "stdout",
     "output_type": "stream",
     "text": [
      "Bin number 0 has mean of  16.8\n",
      "Bin number 1 has mean of  19.6\n",
      "Bin number 2 has mean of  21.0\n",
      "Bin number 3 has mean of  21.8\n",
      "Bin number 4 has mean of  23.6\n",
      "Bin number 5 has mean of  24.0\n",
      "Bin number 6 has mean of  24.2\n",
      "Bin number 7 has mean of  25.0\n",
      "Bin number 8 has mean of  25.2\n",
      "Bin number 9 has mean of  26.0\n",
      "Bin number 10 has mean of  27.0\n",
      "Bin number 11 has mean of  27.0\n",
      "Bin number 12 has mean of  27.0\n",
      "Bin number 13 has mean of  27.0\n",
      "Bin number 14 has mean of  27.0\n",
      "Bin number 15 has mean of  27.0\n",
      "Bin number 16 has mean of  27.4\n",
      "Bin number 17 has mean of  28.0\n",
      "Bin number 18 has mean of  28.2\n",
      "Bin number 19 has mean of  29.0\n",
      "Bin number 20 has mean of  29.4\n",
      "Bin number 21 has mean of  30.0\n",
      "Bin number 22 has mean of  31.0\n",
      "Bin number 23 has mean of  31.6\n",
      "Bin number 24 has mean of  32.0\n",
      "Bin number 25 has mean of  32.2\n",
      "Bin number 26 has mean of  33.0\n",
      "Bin number 27 has mean of  33.0\n",
      "Bin number 28 has mean of  33.2\n",
      "Bin number 29 has mean of  34.0\n",
      "Bin number 30 has mean of  34.0\n",
      "Bin number 31 has mean of  34.0\n",
      "Bin number 32 has mean of  35.0\n",
      "Bin number 33 has mean of  35.0\n",
      "Bin number 34 has mean of  35.0\n",
      "Bin number 35 has mean of  35.0\n",
      "Bin number 36 has mean of  36.0\n",
      "Bin number 37 has mean of  36.2\n",
      "Bin number 38 has mean of  37.0\n",
      "Bin number 39 has mean of  37.6\n",
      "Bin number 40 has mean of  38.0\n",
      "Bin number 41 has mean of  38.4\n",
      "Bin number 42 has mean of  39.0\n",
      "Bin number 43 has mean of  39.0\n",
      "Bin number 44 has mean of  39.0\n",
      "Bin number 45 has mean of  39.0\n",
      "Bin number 46 has mean of  39.6\n",
      "Bin number 47 has mean of  40.0\n",
      "Bin number 48 has mean of  40.0\n",
      "Bin number 49 has mean of  40.6\n",
      "Bin number 50 has mean of  41.0\n",
      "Bin number 51 has mean of  41.4\n",
      "Bin number 52 has mean of  42.0\n",
      "Bin number 53 has mean of  42.0\n",
      "Bin number 54 has mean of  42.0\n",
      "Bin number 55 has mean of  43.0\n",
      "Bin number 56 has mean of  43.0\n",
      "Bin number 57 has mean of  43.0\n",
      "Bin number 58 has mean of  43.6\n",
      "Bin number 59 has mean of  44.0\n",
      "Bin number 60 has mean of  44.0\n",
      "Bin number 61 has mean of  45.0\n",
      "Bin number 62 has mean of  45.0\n",
      "Bin number 63 has mean of  45.0\n",
      "Bin number 64 has mean of  45.8\n",
      "Bin number 65 has mean of  46.0\n",
      "Bin number 66 has mean of  46.0\n",
      "Bin number 67 has mean of  47.0\n",
      "Bin number 68 has mean of  47.2\n",
      "Bin number 69 has mean of  48.0\n",
      "Bin number 70 has mean of  48.8\n",
      "Bin number 71 has mean of  50.0\n",
      "Bin number 72 has mean of  50.4\n",
      "Bin number 73 has mean of  51.0\n",
      "Bin number 74 has mean of  51.0\n",
      "Bin number 75 has mean of  52.4\n",
      "Bin number 76 has mean of  53.0\n",
      "Bin number 77 has mean of  53.2\n",
      "Bin number 78 has mean of  54.0\n",
      "Bin number 79 has mean of  54.4\n",
      "Bin number 80 has mean of  55.6\n",
      "Bin number 81 has mean of  56.2\n",
      "Bin number 82 has mean of  57.2\n",
      "Bin number 83 has mean of  58.0\n",
      "Bin number 84 has mean of  58.8\n",
      "Bin number 85 has mean of  59.2\n",
      "Bin number 86 has mean of  60.4\n",
      "Bin number 87 has mean of  62.0\n",
      "Bin number 88 has mean of  63.4\n",
      "Bin number 89 has mean of  64.0\n",
      "Bin number 90 has mean of  65.0\n",
      "Bin number 91 has mean of  66.0\n",
      "Bin number 92 has mean of  67.0\n",
      "Bin number 93 has mean of  69.4\n",
      "Bin number 94 has mean of  70.6\n",
      "Bin number 95 has mean of  72.0\n",
      "Bin number 96 has mean of  73.4\n",
      "Bin number 97 has mean of  75.2\n",
      "Bin number 98 has mean of  77.2\n",
      "Bin number 99 has mean of  78.2\n",
      "Bin number 100 has mean of  80.4\n",
      "Bin number 101 has mean of  86.2\n",
      "Bin number 102 has mean of  93.4\n"
     ]
    },
    {
     "name": "stderr",
     "output_type": "stream",
     "text": [
      "C:\\Users\\IMOE001\\AppData\\Local\\Temp/ipykernel_6224/2738943709.py:7: SettingWithCopyWarning: \n",
      "A value is trying to be set on a copy of a slice from a DataFrame\n",
      "\n",
      "See the caveats in the documentation: https://pandas.pydata.org/pandas-docs/stable/user_guide/indexing.html#returning-a-view-versus-a-copy\n",
      "  numricvarible[\"RH\"][start_index:end_index] = mean #replacement for orginal values\n"
     ]
    }
   ],
   "source": [
    "\n",
    "sortedcol = numricvarible[\"RH\"].sort_values()\n",
    "sortedcol\n",
    "for bin_number in range(103):\n",
    "    start_index=bin_number*5\n",
    "    end_index=start_index+5\n",
    "    mean = sortedcol[start_index:end_index].mean()\n",
    "    numricvarible[\"RH\"][start_index:end_index] = mean #replacement for orginal values\n",
    "    print('Bin number',bin_number,'has mean of ',mean)\n",
    "    \n",
    "mydatabase[\"RH\"] = numricvarible[\"RH\"]\n"
   ]
  },
  {
   "cell_type": "code",
   "execution_count": 318,
   "id": "5c0bfb57",
   "metadata": {},
   "outputs": [
    {
     "name": "stdout",
     "output_type": "stream",
     "text": [
      "Bin number 0 has mean of  0.8\n",
      "Bin number 1 has mean of  0.9\n",
      "Bin number 2 has mean of  0.9800000000000001\n",
      "Bin number 3 has mean of  1.3\n",
      "Bin number 4 has mean of  1.3\n",
      "Bin number 5 has mean of  1.5\n",
      "Bin number 6 has mean of  1.8\n",
      "Bin number 7 has mean of  1.8\n",
      "Bin number 8 has mean of  1.8\n",
      "Bin number 9 has mean of  1.8\n",
      "Bin number 10 has mean of  1.8\n",
      "Bin number 11 has mean of  1.8800000000000001\n",
      "Bin number 12 has mean of  2.2\n",
      "Bin number 13 has mean of  2.2\n",
      "Bin number 14 has mean of  2.2\n",
      "Bin number 15 has mean of  2.2\n",
      "Bin number 16 has mean of  2.2\n",
      "Bin number 17 has mean of  2.2\n",
      "Bin number 18 has mean of  2.2\n",
      "Bin number 19 has mean of  2.2\n",
      "Bin number 20 has mean of  2.2\n",
      "Bin number 21 has mean of  2.2\n",
      "Bin number 22 has mean of  2.5\n",
      "Bin number 23 has mean of  2.7\n",
      "Bin number 24 has mean of  2.7\n",
      "Bin number 25 has mean of  2.7\n",
      "Bin number 26 has mean of  2.7\n",
      "Bin number 27 has mean of  2.7\n",
      "Bin number 28 has mean of  2.7\n",
      "Bin number 29 has mean of  2.7\n",
      "Bin number 30 has mean of  2.7\n",
      "Bin number 31 has mean of  3.02\n",
      "Bin number 32 has mean of  3.1\n",
      "Bin number 33 has mean of  3.1\n",
      "Bin number 34 has mean of  3.1\n",
      "Bin number 35 has mean of  3.1\n",
      "Bin number 36 has mean of  3.1\n",
      "Bin number 37 has mean of  3.1\n",
      "Bin number 38 has mean of  3.1\n",
      "Bin number 39 has mean of  3.1\n",
      "Bin number 40 has mean of  3.1\n",
      "Bin number 41 has mean of  3.2\n",
      "Bin number 42 has mean of  3.6\n",
      "Bin number 43 has mean of  3.6\n",
      "Bin number 44 has mean of  3.6\n",
      "Bin number 45 has mean of  3.6\n",
      "Bin number 46 has mean of  3.6\n",
      "Bin number 47 has mean of  3.6\n",
      "Bin number 48 has mean of  3.6\n",
      "Bin number 49 has mean of  3.6799999999999997\n",
      "Bin number 50 has mean of  4.0\n",
      "Bin number 51 has mean of  4.0\n",
      "Bin number 52 has mean of  4.0\n",
      "Bin number 53 has mean of  4.0\n",
      "Bin number 54 has mean of  4.0\n",
      "Bin number 55 has mean of  4.0\n",
      "Bin number 56 has mean of  4.0\n",
      "Bin number 57 has mean of  4.0\n",
      "Bin number 58 has mean of  4.0\n",
      "Bin number 59 has mean of  4.0\n",
      "Bin number 60 has mean of  4.5\n",
      "Bin number 61 has mean of  4.5\n",
      "Bin number 62 has mean of  4.5\n",
      "Bin number 63 has mean of  4.5\n",
      "Bin number 64 has mean of  4.5\n",
      "Bin number 65 has mean of  4.5\n",
      "Bin number 66 has mean of  4.5\n",
      "Bin number 67 has mean of  4.5\n",
      "Bin number 68 has mean of  4.82\n",
      "Bin number 69 has mean of  4.9\n",
      "Bin number"
     ]
    },
    {
     "name": "stderr",
     "output_type": "stream",
     "text": [
      "C:\\Users\\IMOE001\\AppData\\Local\\Temp/ipykernel_6224/873736964.py:7: SettingWithCopyWarning: \n",
      "A value is trying to be set on a copy of a slice from a DataFrame\n",
      "\n",
      "See the caveats in the documentation: https://pandas.pydata.org/pandas-docs/stable/user_guide/indexing.html#returning-a-view-versus-a-copy\n",
      "  numricvarible[\"wind\"][start_index:end_index] = mean #replacement for orginal values\n"
     ]
    },
    {
     "name": "stdout",
     "output_type": "stream",
     "text": [
      " 70 has mean of  4.9\n",
      "Bin number 71 has mean of  4.9\n",
      "Bin number 72 has mean of  4.9\n",
      "Bin number 73 has mean of  4.9\n",
      "Bin number 74 has mean of  4.9\n",
      "Bin number 75 has mean of  4.9\n",
      "Bin number 76 has mean of  4.9\n",
      "Bin number 77 has mean of  5.0\n",
      "Bin number 78 has mean of  5.4\n",
      "Bin number 79 has mean of  5.4\n",
      "Bin number 80 has mean of  5.4\n",
      "Bin number 81 has mean of  5.4\n",
      "Bin number 82 has mean of  5.4\n",
      "Bin number 83 has mean of  5.4\n",
      "Bin number 84 has mean of  5.4\n",
      "Bin number 85 has mean of  5.4\n",
      "Bin number 86 has mean of  5.8\n",
      "Bin number 87 has mean of  5.8\n",
      "Bin number 88 has mean of  5.8\n",
      "Bin number 89 has mean of  5.8\n",
      "Bin number 90 has mean of  5.9\n",
      "Bin number 91 has mean of  6.3\n",
      "Bin number 92 has mean of  6.3\n",
      "Bin number 93 has mean of  6.3\n",
      "Bin number 94 has mean of  6.459999999999999\n",
      "Bin number 95 has mean of  6.7\n",
      "Bin number 96 has mean of  7.1\n",
      "Bin number 97 has mean of  7.6\n",
      "Bin number 98 has mean of  7.6\n",
      "Bin number 99 has mean of  7.68\n",
      "Bin number 100 has mean of  8.1\n",
      "Bin number 101 has mean of  8.5\n",
      "Bin number 102 has mean of  8.94\n"
     ]
    }
   ],
   "source": [
    "sortedcol = numricvarible[\"wind\"].sort_values()\n",
    "sortedcol\n",
    "for bin_number in range(103):\n",
    "    start_index=bin_number*5\n",
    "    end_index=start_index+5\n",
    "    mean = sortedcol[start_index:end_index].mean()\n",
    "    numricvarible[\"wind\"][start_index:end_index] = mean #replacement for orginal values\n",
    "    print('Bin number',bin_number,'has mean of ',mean)\n",
    "    \n",
    "mydatabase[\"wind\"] = numricvarible[\"wind\"]\n"
   ]
  },
  {
   "cell_type": "code",
   "execution_count": 319,
   "id": "c40141b7",
   "metadata": {},
   "outputs": [
    {
     "name": "stdout",
     "output_type": "stream",
     "text": [
      "Bin number 0 has mean of  0.0\n",
      "Bin number 1 has mean of  0.0\n",
      "Bin number 2 has mean of  0.0\n",
      "Bin number 3 has mean of  0.0\n",
      "Bin number 4 has mean of  0.0\n",
      "Bin number 5 has mean of  0.0\n",
      "Bin number 6 has mean of  0.0\n",
      "Bin number 7 has mean of  0.0\n",
      "Bin number 8 has mean of  0.0\n",
      "Bin number 9 has mean of  0.0\n",
      "Bin number 10 has mean of  0.0\n",
      "Bin number 11 has mean of  0.0\n",
      "Bin number 12 has mean of  0.0\n",
      "Bin number 13 has mean of  0.0\n",
      "Bin number 14 has mean of  0.0\n",
      "Bin number 15 has mean of  0.0\n",
      "Bin number 16 has mean of  0.0\n",
      "Bin number 17 has mean of  0.0\n",
      "Bin number 18 has mean of  0.0\n",
      "Bin number 19 has mean of  0.0\n",
      "Bin number 20 has mean of  0.0\n",
      "Bin number 21 has mean of  0.0\n",
      "Bin number 22 has mean of  0.0\n",
      "Bin number 23 has mean of  0.0\n",
      "Bin number 24 has mean of  0.0\n",
      "Bin number 25 has mean of  0.0\n",
      "Bin number 26 has mean of  0.0\n",
      "Bin number 27 has mean of  0.0\n",
      "Bin number 28 has mean of  0.0\n",
      "Bin number 29 has mean of  0.0\n",
      "Bin number 30 has mean of  0.0\n",
      "Bin number 31 has mean of  0.0\n",
      "Bin number 32 has mean of  0.0\n",
      "Bin number 33 has mean of  0.0\n",
      "Bin number 34 has mean of  0.0\n",
      "Bin number 35 has mean of  0.0\n",
      "Bin number 36 has mean of  0.0\n",
      "Bin number 37 has mean of  0.0\n",
      "Bin number 38 has mean of  0.0\n",
      "Bin number 39 has mean of  0.0\n",
      "Bin number 40 has mean of  0.0\n",
      "Bin number 41 has mean of  0.0\n",
      "Bin number 42 has mean of  0.0\n",
      "Bin number 43 has mean of  0.0\n",
      "Bin number 44 has mean of  0.0\n",
      "Bin number 45 has mean of  0.0\n",
      "Bin number 46 has mean of  0.0\n",
      "Bin number 47 has mean of  0.0\n",
      "Bin number 48 has mean of  0.0\n",
      "Bin number 49 has mean of  0.0\n",
      "Bin number 50 has mean of  0.0\n",
      "Bin number 51 has mean of  0.0\n",
      "Bin number 52 has mean of  0.0\n",
      "Bin number 53 has mean of  0.0\n",
      "Bin number 54 has mean of  0.0\n",
      "Bin number 55 has mean of  0.0\n",
      "Bin number 56 has mean of  0.0\n",
      "Bin number 57 has mean of  0.0\n",
      "Bin number 58 has mean of  0.0\n",
      "Bin number 59 has mean of  0.0\n",
      "Bin number 60 has mean of  0.0\n",
      "Bin number 61 has mean of  0.0\n",
      "Bin number 62 has mean of  0.0\n",
      "Bin number 63 has mean of  0.0\n",
      "Bin number 64 has mean of  0.0\n",
      "Bin number 65 has mean of  0.0\n",
      "Bin number 66 has mean of  0.0\n",
      "Bin number 67 has mean of  0.0\n"
     ]
    },
    {
     "name": "stderr",
     "output_type": "stream",
     "text": [
      "C:\\Users\\IMOE001\\AppData\\Local\\Temp/ipykernel_6224/3162877323.py:7: SettingWithCopyWarning: \n",
      "A value is trying to be set on a copy of a slice from a DataFrame\n",
      "\n",
      "See the caveats in the documentation: https://pandas.pydata.org/pandas-docs/stable/user_guide/indexing.html#returning-a-view-versus-a-copy\n",
      "  numricvarible[\"rain\"][start_index:end_index] = mean #replacement for orginal values\n"
     ]
    },
    {
     "name": "stdout",
     "output_type": "stream",
     "text": [
      "Bin number 68 has mean of  0.0\n",
      "Bin number 69 has mean of  0.0\n",
      "Bin number 70 has mean of  0.0\n",
      "Bin number 71 has mean of  0.0\n",
      "Bin number 72 has mean of  0.0\n",
      "Bin number 73 has mean of  0.0\n",
      "Bin number 74 has mean of  0.0\n",
      "Bin number 75 has mean of  0.0\n",
      "Bin number 76 has mean of  0.0\n",
      "Bin number 77 has mean of  0.0\n",
      "Bin number 78 has mean of  0.0\n",
      "Bin number 79 has mean of  0.0\n",
      "Bin number 80 has mean of  0.0\n",
      "Bin number 81 has mean of  0.0\n",
      "Bin number 82 has mean of  0.0\n",
      "Bin number 83 has mean of  0.0\n",
      "Bin number 84 has mean of  0.0\n",
      "Bin number 85 has mean of  0.0\n",
      "Bin number 86 has mean of  0.0\n",
      "Bin number 87 has mean of  0.0\n",
      "Bin number 88 has mean of  0.0\n",
      "Bin number 89 has mean of  0.0\n",
      "Bin number 90 has mean of  0.0\n",
      "Bin number 91 has mean of  0.0\n",
      "Bin number 92 has mean of  0.0\n",
      "Bin number 93 has mean of  0.0\n",
      "Bin number 94 has mean of  0.0\n",
      "Bin number 95 has mean of  0.0\n",
      "Bin number 96 has mean of  0.0\n",
      "Bin number 97 has mean of  0.0\n",
      "Bin number 98 has mean of  0.0\n",
      "Bin number 99 has mean of  0.0\n",
      "Bin number 100 has mean of  0.0\n",
      "Bin number 101 has mean of  0.04\n",
      "Bin number 102 has mean of  0.64\n"
     ]
    }
   ],
   "source": [
    "sortedcol = numricvarible[\"rain\"].sort_values()\n",
    "sortedcol\n",
    "for bin_number in range(103):\n",
    "    start_index=bin_number*5\n",
    "    end_index=start_index+5\n",
    "    mean = sortedcol[start_index:end_index].mean()\n",
    "    numricvarible[\"rain\"][start_index:end_index] = mean #replacement for orginal values\n",
    "    print('Bin number',bin_number,'has mean of ',mean)\n",
    "    \n",
    "mydatabase[\"rain\"] = numricvarible[\"rain\"]\n",
    "\n"
   ]
  },
  {
   "cell_type": "code",
   "execution_count": 320,
   "id": "054b1d8d",
   "metadata": {},
   "outputs": [
    {
     "name": "stdout",
     "output_type": "stream",
     "text": [
      "Bin number 0 has mean of  0.0\n",
      "Bin number 1 has mean of  0.0\n",
      "Bin number 2 has mean of  0.0\n",
      "Bin number 3 has mean of  0.0\n",
      "Bin number 4 has mean of  0.0\n",
      "Bin number 5 has mean of  0.0\n",
      "Bin number 6 has mean of  0.0\n",
      "Bin number 7 has mean of  0.0\n",
      "Bin number 8 has mean of  0.0\n",
      "Bin number 9 has mean of  0.0\n",
      "Bin number 10 has mean of  0.0\n",
      "Bin number 11 has mean of  0.0\n",
      "Bin number 12 has mean of  0.0\n",
      "Bin number 13 has mean of  0.0\n",
      "Bin number 14 has mean of  0.0\n",
      "Bin number 15 has mean of  0.0\n",
      "Bin number 16 has mean of  0.0\n",
      "Bin number 17 has mean of  0.0\n",
      "Bin number 18 has mean of  0.0\n",
      "Bin number 19 has mean of  0.0\n",
      "Bin number 20 has mean of  0.0\n",
      "Bin number 21 has mean of  0.0\n",
      "Bin number 22 has mean of  0.0\n",
      "Bin number 23 has mean of  0.0\n",
      "Bin number 24 has mean of  0.0\n",
      "Bin number 25 has mean of  0.0\n",
      "Bin number 26 has mean of  0.0\n",
      "Bin number 27 has mean of  0.0\n",
      "Bin number 28 has mean of  0.0\n",
      "Bin number 29 has mean of  0.0\n",
      "Bin number 30 has mean of  0.0\n",
      "Bin number 31 has mean of  0.0\n",
      "Bin number 32 has mean of  0.0\n",
      "Bin number 33 has mean of  0.0\n",
      "Bin number 34 has mean of  0.0\n",
      "Bin number 35 has mean of  0.0\n",
      "Bin number 36 has mean of  0.0\n",
      "Bin number 37 has mean of  0.0\n",
      "Bin number 38 has mean of  0.0\n",
      "Bin number 39 has mean of  0.0\n",
      "Bin number 40 has mean of  0.0\n",
      "Bin number 41 has mean of  0.0\n",
      "Bin number 42 has mean of  0.0\n",
      "Bin number 43 has mean of  0.0\n",
      "Bin number 44 has mean of  0.0\n",
      "Bin number 45 has mean of  0.0\n",
      "Bin number 46 has mean of  0.0\n",
      "Bin number 47 has mean of  0.0\n",
      "Bin number 48 has mean of  0.0\n",
      "Bin number 49 has mean of  0.094\n",
      "Bin number 50 has mean of  0.354\n",
      "Bin number 51 has mean of  0.496\n",
      "Bin number 52 has mean of  0.6460000000000001\n",
      "Bin number 53 has mean of  0.758\n",
      "Bin number 54 has mean of  0.944\n",
      "Bin number 55 has mean of  1.114\n",
      "Bin number 56 has mean of  1.304\n",
      "Bin number 57 has mean of  1.468\n",
      "Bin number 58 has mean of  1.588\n",
      "Bin number 59 has mean of  1.6640000000000001\n",
      "Bin number 60 has mean of  1.8199999999999998\n",
      "Bin number 61 has mean of  1.9560000000000002\n",
      "Bin number 62 has mean of  2.0759999999999996\n",
      "Bin number 63 has mean of  2.1759999999999997\n",
      "Bin number 64 has mean of  2.412\n",
      "Bin number 65 has mean of  2.596\n",
      "Bin number 66 has mean of  2.812\n",
      "Bin number 67 has mean of  3.1159999999999997\n",
      "Bin number 68 has mean of  3.3\n",
      "Bin number 69 has mean of  3.6\n",
      "Bin number 70 has mean of  3.8619999999999997\n",
      "Bin number 71 has mean of  4.402\n",
      "Bin number"
     ]
    },
    {
     "name": "stderr",
     "output_type": "stream",
     "text": [
      "C:\\Users\\IMOE001\\AppData\\Local\\Temp/ipykernel_6224/1073651523.py:7: SettingWithCopyWarning: \n",
      "A value is trying to be set on a copy of a slice from a DataFrame\n",
      "\n",
      "See the caveats in the documentation: https://pandas.pydata.org/pandas-docs/stable/user_guide/indexing.html#returning-a-view-versus-a-copy\n",
      "  numricvarible[\"area\"][start_index:end_index] = mean #replacement for orginal values\n"
     ]
    },
    {
     "name": "stdout",
     "output_type": "stream",
     "text": [
      " 72 has mean of  4.75\n",
      "Bin number 73 has mean of  5.216\n",
      "Bin number 74 has mean of  5.566000000000001\n",
      "Bin number 75 has mean of  5.959999999999999\n",
      "Bin number 76 has mean of  6.38\n",
      "Bin number 77 has mean of  6.548\n",
      "Bin number 78 has mean of  6.938\n",
      "Bin number 79 has mean of  7.273999999999999\n",
      "Bin number 80 has mean of  7.6819999999999995\n",
      "Bin number 81 has mean of  8.17\n",
      "Bin number 82 has mean of  8.762\n",
      "Bin number 83 has mean of  9.485999999999999\n",
      "Bin number 84 has mean of  10.006\n",
      "Bin number 85 has mean of  10.59\n",
      "Bin number 86 has mean of  11.138\n",
      "Bin number 87 has mean of  11.674000000000001\n",
      "Bin number 88 has mean of  13.288\n",
      "Bin number 89 has mean of  14.866\n",
      "Bin number 90 has mean of  16.314\n",
      "Bin number 91 has mean of  19.488000000000003\n",
      "Bin number 92 has mean of  24.247999999999998\n",
      "Bin number 93 has mean of  26.82\n",
      "Bin number 94 has mean of  29.144\n",
      "Bin number 95 has mean of  32.065999999999995\n",
      "Bin number 96 has mean of  37.188\n",
      "Bin number 97 has mean of  42.556\n",
      "Bin number 98 has mean of  50.715999999999994\n",
      "Bin number 99 has mean of  61.977999999999994\n",
      "Bin number 100 has mean of  79.95\n",
      "Bin number 101 has mean of  126.748\n",
      "Bin number 102 has mean of  214.91800000000003\n"
     ]
    }
   ],
   "source": [
    "sortedcol = numricvarible[\"area\"].sort_values()\n",
    "sortedcol\n",
    "for bin_number in range(103):\n",
    "    start_index=bin_number*5\n",
    "    end_index=start_index+5\n",
    "    mean = sortedcol[start_index:end_index].mean()\n",
    "    numricvarible[\"area\"][start_index:end_index] = mean #replacement for orginal values\n",
    "    print('Bin number',bin_number,'has mean of ',mean)\n",
    "    \n",
    "mydatabase[\"area\"] = numricvarible[\"area\"]\n"
   ]
  },
  {
   "cell_type": "code",
   "execution_count": 321,
   "id": "6e068ec5",
   "metadata": {},
   "outputs": [
    {
     "name": "stdout",
     "output_type": "stream",
     "text": [
      "Bin number 0 has mean of  2.0\n",
      "Bin number 1 has mean of  2.0\n",
      "Bin number 2 has mean of  2.0\n",
      "Bin number 3 has mean of  2.0\n",
      "Bin number 4 has mean of  2.0\n",
      "Bin number 5 has mean of  2.0\n",
      "Bin number 6 has mean of  2.0\n",
      "Bin number 7 has mean of  2.0\n",
      "Bin number 8 has mean of  2.2\n",
      "Bin number 9 has mean of  3.0\n",
      "Bin number 10 has mean of  3.0\n",
      "Bin number 11 has mean of  3.0\n",
      "Bin number 12 has mean of  3.0\n",
      "Bin number 13 has mean of  3.0\n",
      "Bin number 14 has mean of  3.0\n",
      "Bin number 15 has mean of  3.0\n",
      "Bin number 16 has mean of  3.0\n",
      "Bin number 17 has mean of  3.0\n",
      "Bin number 18 has mean of  3.0\n",
      "Bin number 19 has mean of  3.0\n",
      "Bin number 20 has mean of  3.0\n",
      "Bin number 21 has mean of  3.4\n",
      "Bin number 22 has mean of  4.0\n",
      "Bin number 23 has mean of  4.0\n",
      "Bin number 24 has mean of  4.0\n",
      "Bin number 25 has mean of  4.0\n",
      "Bin number 26 has mean of  4.0\n",
      "Bin number 27 has mean of  4.0\n",
      "Bin number 28 has mean of  4.0\n",
      "Bin number 29 has mean of  4.0\n",
      "Bin number 30 has mean of  4.0\n",
      "Bin number 31 has mean of  4.0\n",
      "Bin number 32 has mean of  4.0\n",
      "Bin number 33 has mean of  4.0\n",
      "Bin number 34 has mean of  4.0\n",
      "Bin number 35 has mean of  4.0\n",
      "Bin number 36 has mean of  4.0\n",
      "Bin number 37 has mean of  4.0\n",
      "Bin number 38 has mean of  4.0\n",
      "Bin number 39 has mean of  4.0\n",
      "Bin number 40 has mean of  4.0\n",
      "Bin number 41 has mean of  4.0\n",
      "Bin number 42 has mean of  4.0\n",
      "Bin number 43 has mean of  4.0\n",
      "Bin number 44 has mean of  4.0\n",
      "Bin number 45 has mean of  4.0\n",
      "Bin number 46 has mean of  4.0\n",
      "Bin number 47 has mean of  4.0\n",
      "Bin number 48 has mean of  4.0\n",
      "Bin number 49 has mean of  4.0\n",
      "Bin number 50 has mean of  4.0\n",
      "Bin number 51 has mean of  4.0\n",
      "Bin number 52 has mean of  4.0\n",
      "Bin number 53 has mean of  4.0\n",
      "Bin number 54 has mean of  4.0\n",
      "Bin number 55 has mean of  4.0\n",
      "Bin number 56 has mean of  4.0\n",
      "Bin number 57 has mean of  4.0\n",
      "Bin number 58 has mean of  4.0\n",
      "Bin number 59 has mean of  4.0\n",
      "Bin number 60 has mean of  4.0\n",
      "Bin number 61 has mean of  4.0\n",
      "Bin number 62 has mean of  4.8\n",
      "Bin number 63 has mean of  5.0\n",
      "Bin number 64 has mean of  5.0\n",
      "Bin number 65 has mean of  5.0\n",
      "Bin number 66 has mean of  5.0\n",
      "Bin number 67 has mean of  5.0\n",
      "Bin number 68 has mean of  5.0\n",
      "Bin number 69 has mean of  5.0\n",
      "Bin number 70 has mean of  5.0\n",
      "Bin number 71 has mean of  5.0\n",
      "Bin number 72 has mean of  5.0\n",
      "Bin number 73 has mean of  5.0\n",
      "Bin number 74 has mean of  5.0\n",
      "Bin number 75 has mean of  5.0\n",
      "Bin number 76 has mean of  5.0\n",
      "Bin number 77 has mean of  5.0\n",
      "Bin number 78 has mean of  5.0\n",
      "Bin number 79 has mean of  5.0\n",
      "Bin number 80 has mean of  5.0\n",
      "Bin number 81 has mean of  5.0\n",
      "Bin number 82 has mean of  5.0\n",
      "Bin number 83 has mean of  5.0\n",
      "Bin number 84 has mean of  5.0\n",
      "Bin number 85 has mean of  5.0\n",
      "Bin number 86 has mean of  5.0\n",
      "Bin number 87 has mean of  5.8\n",
      "Bin number 88 has mean of  6.0\n",
      "Bin number 89 has mean of  6.0\n",
      "Bin number 90 has mean of  6.0\n",
      "Bin number 91 has mean of  6.0\n",
      "Bin number 92 has mean of  6.0\n",
      "Bin number 93 has mean of  6.0\n",
      "Bin number 94 has mean of  6.0\n",
      "Bin number 95 has mean of  6.0\n",
      "Bin number 96 has mean of  6.0\n",
      "Bin number 97 has mean of  6.0\n",
      "Bin number 98 has mean of  6.0\n",
      "Bin number 99 has mean of  6.0\n",
      "Bin number 100 has mean of  6.0\n",
      "Bin number 101 has mean of  6.0\n",
      "Bin number 102 has mean of  8.8\n"
     ]
    },
    {
     "name": "stderr",
     "output_type": "stream",
     "text": [
      "C:\\Users\\IMOE001\\AppData\\Local\\Temp/ipykernel_6224/969411100.py:7: SettingWithCopyWarning: \n",
      "A value is trying to be set on a copy of a slice from a DataFrame\n",
      "\n",
      "See the caveats in the documentation: https://pandas.pydata.org/pandas-docs/stable/user_guide/indexing.html#returning-a-view-versus-a-copy\n",
      "  numricvarible[\"y\"][start_index:end_index] = mean #replacement for orginal values\n"
     ]
    }
   ],
   "source": [
    "sortedcol = numricvarible[\"y\"].sort_values()\n",
    "sortedcol\n",
    "for bin_number in range(103):\n",
    "    start_index=bin_number*5\n",
    "    end_index=start_index+5\n",
    "    mean = sortedcol[start_index:end_index].mean()\n",
    "    numricvarible[\"y\"][start_index:end_index] = mean #replacement for orginal values\n",
    "    print('Bin number',bin_number,'has mean of ',mean)\n",
    "    \n",
    "mydatabase[\"y\"] = numricvarible[\"y\"]\n"
   ]
  },
  {
   "attachments": {},
   "cell_type": "markdown",
   "id": "3628419a",
   "metadata": {},
   "source": [
    "# data set after smooting "
   ]
  },
  {
   "cell_type": "code",
   "execution_count": 322,
   "id": "a8acb434",
   "metadata": {},
   "outputs": [
    {
     "data": {
      "text/html": [
       "<div>\n",
       "<style scoped>\n",
       "    .dataframe tbody tr th:only-of-type {\n",
       "        vertical-align: middle;\n",
       "    }\n",
       "\n",
       "    .dataframe tbody tr th {\n",
       "        vertical-align: top;\n",
       "    }\n",
       "\n",
       "    .dataframe thead th {\n",
       "        text-align: right;\n",
       "    }\n",
       "</style>\n",
       "<table border=\"1\" class=\"dataframe\">\n",
       "  <thead>\n",
       "    <tr style=\"text-align: right;\">\n",
       "      <th></th>\n",
       "      <th>X</th>\n",
       "      <th>Y</th>\n",
       "      <th>month</th>\n",
       "      <th>day</th>\n",
       "      <th>FFMC</th>\n",
       "      <th>DMC</th>\n",
       "      <th>DC</th>\n",
       "      <th>ISI</th>\n",
       "      <th>temp</th>\n",
       "      <th>RH</th>\n",
       "      <th>wind</th>\n",
       "      <th>rain</th>\n",
       "      <th>area</th>\n",
       "      <th>y</th>\n",
       "    </tr>\n",
       "  </thead>\n",
       "  <tbody>\n",
       "    <tr>\n",
       "      <th>0</th>\n",
       "      <td>7</td>\n",
       "      <td>5</td>\n",
       "      <td>mar</td>\n",
       "      <td>fri</td>\n",
       "      <td>49.9</td>\n",
       "      <td>2.54</td>\n",
       "      <td>12.76</td>\n",
       "      <td>0.46</td>\n",
       "      <td>4.04</td>\n",
       "      <td>16.8</td>\n",
       "      <td>0.80</td>\n",
       "      <td>0.00</td>\n",
       "      <td>0.000</td>\n",
       "      <td>2.0</td>\n",
       "    </tr>\n",
       "    <tr>\n",
       "      <th>1</th>\n",
       "      <td>7</td>\n",
       "      <td>4</td>\n",
       "      <td>oct</td>\n",
       "      <td>tue</td>\n",
       "      <td>49.9</td>\n",
       "      <td>2.54</td>\n",
       "      <td>12.76</td>\n",
       "      <td>0.46</td>\n",
       "      <td>4.04</td>\n",
       "      <td>16.8</td>\n",
       "      <td>0.80</td>\n",
       "      <td>0.00</td>\n",
       "      <td>0.000</td>\n",
       "      <td>2.0</td>\n",
       "    </tr>\n",
       "    <tr>\n",
       "      <th>2</th>\n",
       "      <td>7</td>\n",
       "      <td>4</td>\n",
       "      <td>oct</td>\n",
       "      <td>sat</td>\n",
       "      <td>49.9</td>\n",
       "      <td>2.54</td>\n",
       "      <td>12.76</td>\n",
       "      <td>0.46</td>\n",
       "      <td>4.04</td>\n",
       "      <td>16.8</td>\n",
       "      <td>0.80</td>\n",
       "      <td>0.00</td>\n",
       "      <td>0.000</td>\n",
       "      <td>2.0</td>\n",
       "    </tr>\n",
       "    <tr>\n",
       "      <th>3</th>\n",
       "      <td>8</td>\n",
       "      <td>6</td>\n",
       "      <td>mar</td>\n",
       "      <td>fri</td>\n",
       "      <td>49.9</td>\n",
       "      <td>2.54</td>\n",
       "      <td>12.76</td>\n",
       "      <td>0.46</td>\n",
       "      <td>4.04</td>\n",
       "      <td>16.8</td>\n",
       "      <td>0.80</td>\n",
       "      <td>0.00</td>\n",
       "      <td>0.000</td>\n",
       "      <td>2.0</td>\n",
       "    </tr>\n",
       "    <tr>\n",
       "      <th>4</th>\n",
       "      <td>8</td>\n",
       "      <td>6</td>\n",
       "      <td>mar</td>\n",
       "      <td>sun</td>\n",
       "      <td>49.9</td>\n",
       "      <td>2.54</td>\n",
       "      <td>12.76</td>\n",
       "      <td>0.46</td>\n",
       "      <td>4.04</td>\n",
       "      <td>16.8</td>\n",
       "      <td>0.80</td>\n",
       "      <td>0.00</td>\n",
       "      <td>0.000</td>\n",
       "      <td>2.0</td>\n",
       "    </tr>\n",
       "    <tr>\n",
       "      <th>...</th>\n",
       "      <td>...</td>\n",
       "      <td>...</td>\n",
       "      <td>...</td>\n",
       "      <td>...</td>\n",
       "      <td>...</td>\n",
       "      <td>...</td>\n",
       "      <td>...</td>\n",
       "      <td>...</td>\n",
       "      <td>...</td>\n",
       "      <td>...</td>\n",
       "      <td>...</td>\n",
       "      <td>...</td>\n",
       "      <td>...</td>\n",
       "      <td>...</td>\n",
       "    </tr>\n",
       "    <tr>\n",
       "      <th>512</th>\n",
       "      <td>4</td>\n",
       "      <td>3</td>\n",
       "      <td>aug</td>\n",
       "      <td>sun</td>\n",
       "      <td>96.1</td>\n",
       "      <td>288.42</td>\n",
       "      <td>851.84</td>\n",
       "      <td>20.96</td>\n",
       "      <td>32.14</td>\n",
       "      <td>93.4</td>\n",
       "      <td>8.94</td>\n",
       "      <td>0.64</td>\n",
       "      <td>214.918</td>\n",
       "      <td>8.8</td>\n",
       "    </tr>\n",
       "    <tr>\n",
       "      <th>513</th>\n",
       "      <td>2</td>\n",
       "      <td>4</td>\n",
       "      <td>aug</td>\n",
       "      <td>sun</td>\n",
       "      <td>96.1</td>\n",
       "      <td>288.42</td>\n",
       "      <td>851.84</td>\n",
       "      <td>20.96</td>\n",
       "      <td>32.14</td>\n",
       "      <td>93.4</td>\n",
       "      <td>8.94</td>\n",
       "      <td>0.64</td>\n",
       "      <td>214.918</td>\n",
       "      <td>8.8</td>\n",
       "    </tr>\n",
       "    <tr>\n",
       "      <th>514</th>\n",
       "      <td>7</td>\n",
       "      <td>4</td>\n",
       "      <td>aug</td>\n",
       "      <td>sun</td>\n",
       "      <td>96.1</td>\n",
       "      <td>288.42</td>\n",
       "      <td>851.84</td>\n",
       "      <td>20.96</td>\n",
       "      <td>32.14</td>\n",
       "      <td>93.4</td>\n",
       "      <td>8.94</td>\n",
       "      <td>0.64</td>\n",
       "      <td>214.918</td>\n",
       "      <td>8.8</td>\n",
       "    </tr>\n",
       "    <tr>\n",
       "      <th>515</th>\n",
       "      <td>1</td>\n",
       "      <td>4</td>\n",
       "      <td>aug</td>\n",
       "      <td>sat</td>\n",
       "      <td>94.4</td>\n",
       "      <td>146.00</td>\n",
       "      <td>614.70</td>\n",
       "      <td>11.30</td>\n",
       "      <td>25.60</td>\n",
       "      <td>42.0</td>\n",
       "      <td>4.00</td>\n",
       "      <td>0.00</td>\n",
       "      <td>0.000</td>\n",
       "      <td>4.0</td>\n",
       "    </tr>\n",
       "    <tr>\n",
       "      <th>516</th>\n",
       "      <td>6</td>\n",
       "      <td>3</td>\n",
       "      <td>nov</td>\n",
       "      <td>tue</td>\n",
       "      <td>79.5</td>\n",
       "      <td>3.00</td>\n",
       "      <td>106.70</td>\n",
       "      <td>1.10</td>\n",
       "      <td>11.80</td>\n",
       "      <td>31.0</td>\n",
       "      <td>4.50</td>\n",
       "      <td>0.00</td>\n",
       "      <td>0.000</td>\n",
       "      <td>3.0</td>\n",
       "    </tr>\n",
       "  </tbody>\n",
       "</table>\n",
       "<p>517 rows × 14 columns</p>\n",
       "</div>"
      ],
      "text/plain": [
       "     X  Y month  day  FFMC     DMC      DC    ISI   temp    RH  wind  rain  \\\n",
       "0    7  5   mar  fri  49.9    2.54   12.76   0.46   4.04  16.8  0.80  0.00   \n",
       "1    7  4   oct  tue  49.9    2.54   12.76   0.46   4.04  16.8  0.80  0.00   \n",
       "2    7  4   oct  sat  49.9    2.54   12.76   0.46   4.04  16.8  0.80  0.00   \n",
       "3    8  6   mar  fri  49.9    2.54   12.76   0.46   4.04  16.8  0.80  0.00   \n",
       "4    8  6   mar  sun  49.9    2.54   12.76   0.46   4.04  16.8  0.80  0.00   \n",
       "..  .. ..   ...  ...   ...     ...     ...    ...    ...   ...   ...   ...   \n",
       "512  4  3   aug  sun  96.1  288.42  851.84  20.96  32.14  93.4  8.94  0.64   \n",
       "513  2  4   aug  sun  96.1  288.42  851.84  20.96  32.14  93.4  8.94  0.64   \n",
       "514  7  4   aug  sun  96.1  288.42  851.84  20.96  32.14  93.4  8.94  0.64   \n",
       "515  1  4   aug  sat  94.4  146.00  614.70  11.30  25.60  42.0  4.00  0.00   \n",
       "516  6  3   nov  tue  79.5    3.00  106.70   1.10  11.80  31.0  4.50  0.00   \n",
       "\n",
       "        area    y  \n",
       "0      0.000  2.0  \n",
       "1      0.000  2.0  \n",
       "2      0.000  2.0  \n",
       "3      0.000  2.0  \n",
       "4      0.000  2.0  \n",
       "..       ...  ...  \n",
       "512  214.918  8.8  \n",
       "513  214.918  8.8  \n",
       "514  214.918  8.8  \n",
       "515    0.000  4.0  \n",
       "516    0.000  3.0  \n",
       "\n",
       "[517 rows x 14 columns]"
      ]
     },
     "execution_count": 322,
     "metadata": {},
     "output_type": "execute_result"
    }
   ],
   "source": [
    "mydatabase"
   ]
  },
  {
   "attachments": {},
   "cell_type": "markdown",
   "id": "2ec0e8a5",
   "metadata": {},
   "source": [
    "# relationship btween area and FFMC \n"
   ]
  },
  {
   "cell_type": "code",
   "execution_count": 323,
   "id": "3535cd6e",
   "metadata": {},
   "outputs": [
    {
     "data": {
      "text/plain": [
       "0.2832722462174054"
      ]
     },
     "execution_count": 323,
     "metadata": {},
     "output_type": "execute_result"
    }
   ],
   "source": [
    "mydatabase['FFMC'].corr(mydatabase['area'])\n",
    "#The relationship is weak"
   ]
  },
  {
   "cell_type": "code",
   "execution_count": 326,
   "id": "d969d650",
   "metadata": {},
   "outputs": [
    {
     "data": {
      "text/plain": [
       "<AxesSubplot:xlabel='FFMC', ylabel='area'>"
      ]
     },
     "execution_count": 326,
     "metadata": {},
     "output_type": "execute_result"
    },
    {
     "data": {
      "image/png": "[encoded data removed]",
      "text/plain": [
       "<Figure size 432x288 with 1 Axes>"
      ]
     },
     "metadata": {
      "needs_background": "light"
     },
     "output_type": "display_data"
    }
   ],
   "source": [
    "mydatabase.plot.scatter( x='FFMC' , y ='area')"
   ]
  },
  {
   "attachments": {},
   "cell_type": "markdown",
   "id": "e4a7f474",
   "metadata": {},
   "source": [
    "# relationship btween area and DMC \n"
   ]
  },
  {
   "cell_type": "code",
   "execution_count": 328,
   "id": "617b4f59",
   "metadata": {},
   "outputs": [
    {
     "data": {
      "text/plain": [
       "0.6680236932089226"
      ]
     },
     "execution_count": 328,
     "metadata": {},
     "output_type": "execute_result"
    }
   ],
   "source": [
    "mydatabase['DMC'].corr(mydatabase['area'])\n",
    "#there is a strong relationship "
   ]
  },
  {
   "cell_type": "code",
   "execution_count": 329,
   "id": "216feef4",
   "metadata": {},
   "outputs": [
    {
     "data": {
      "text/plain": [
       "<AxesSubplot:xlabel='DMC', ylabel='area'>"
      ]
     },
     "execution_count": 329,
     "metadata": {},
     "output_type": "execute_result"
    },
    {
     "data": {
      "image/png": "[encoded data removed]",
      "text/plain": [
       "<Figure size 432x288 with 1 Axes>"
      ]
     },
     "metadata": {
      "needs_background": "light"
     },
     "output_type": "display_data"
    }
   ],
   "source": [
    "mydatabase.plot.scatter( x='DMC' , y ='area')"
   ]
  },
  {
   "cell_type": "code",
   "execution_count": 330,
   "id": "c05b9bf5",
   "metadata": {},
   "outputs": [
    {
     "data": {
      "text/plain": [
       "0.6626666703008576"
      ]
     },
     "execution_count": 330,
     "metadata": {},
     "output_type": "execute_result"
    }
   ],
   "source": [
    "mydatabase['wind'].corr(mydatabase['area'])\n",
    "#strong relationship"
   ]
  },
  {
   "cell_type": "code",
   "execution_count": 331,
   "id": "c4e07485",
   "metadata": {},
   "outputs": [
    {
     "data": {
      "text/plain": [
       "<AxesSubplot:xlabel='wind', ylabel='area'>"
      ]
     },
     "execution_count": 331,
     "metadata": {},
     "output_type": "execute_result"
    },
    {
     "data": {
      "image/png": "[encoded data removed]",
      "text/plain": [
       "<Figure size 432x288 with 1 Axes>"
      ]
     },
     "metadata": {
      "needs_background": "light"
     },
     "output_type": "display_data"
    }
   ],
   "source": [
    "mydatabase.plot.scatter( x='wind' , y ='area')"
   ]
  },
  {
   "cell_type": "code",
   "execution_count": 342,
   "id": "f7d5ac92",
   "metadata": {},
   "outputs": [
    {
     "data": {
      "text/plain": [
       "0.781764306006696"
      ]
     },
     "execution_count": 342,
     "metadata": {},
     "output_type": "execute_result"
    }
   ],
   "source": [
    "mydatabase['rain'].corr(mydatabase['area'])\n",
    "#very strong relation"
   ]
  },
  {
   "cell_type": "code",
   "execution_count": 343,
   "id": "0ade84f6",
   "metadata": {},
   "outputs": [
    {
     "data": {
      "text/plain": [
       "<AxesSubplot:xlabel='rain', ylabel='area'>"
      ]
     },
     "execution_count": 343,
     "metadata": {},
     "output_type": "execute_result"
    },
    {
     "data": {
      "image/png": "[encoded data removed]",
      "text/plain": [
       "<Figure size 432x288 with 1 Axes>"
      ]
     },
     "metadata": {
      "needs_background": "light"
     },
     "output_type": "display_data"
    }
   ],
   "source": [
    "mydatabase.plot.scatter( x='rain' , y ='area')"
   ]
  },
  {
   "cell_type": "code",
   "execution_count": 344,
   "id": "e08cd953",
   "metadata": {},
   "outputs": [
    {
     "data": {
      "text/plain": [
       "0.34467708777065653"
      ]
     },
     "execution_count": 344,
     "metadata": {},
     "output_type": "execute_result"
    }
   ],
   "source": [
    "mydatabase['DC'].corr(mydatabase['area'])\n"
   ]
  },
  {
   "cell_type": "code",
   "execution_count": 345,
   "id": "b3f927ae",
   "metadata": {},
   "outputs": [
    {
     "data": {
      "text/plain": [
       "<AxesSubplot:xlabel='DC', ylabel='area'>"
      ]
     },
     "execution_count": 345,
     "metadata": {},
     "output_type": "execute_result"
    },
    {
     "data": {
      "image/png": "[encoded data removed]",
      "text/plain": [
       "<Figure size 432x288 with 1 Axes>"
      ]
     },
     "metadata": {
      "needs_background": "light"
     },
     "output_type": "display_data"
    }
   ],
   "source": [
    "mydatabase.plot.scatter( x='DC' , y ='area')"
   ]
  },
  {
   "cell_type": "code",
   "execution_count": 346,
   "id": "3a75abe2",
   "metadata": {},
   "outputs": [
    {
     "data": {
      "text/plain": [
       "0.679436853766688"
      ]
     },
     "execution_count": 346,
     "metadata": {},
     "output_type": "execute_result"
    }
   ],
   "source": [
    "mydatabase['ISI'].corr(mydatabase['area'])\n"
   ]
  },
  {
   "cell_type": "code",
   "execution_count": 347,
   "id": "721d7595",
   "metadata": {},
   "outputs": [
    {
     "data": {
      "text/plain": [
       "<AxesSubplot:xlabel='ISI', ylabel='area'>"
      ]
     },
     "execution_count": 347,
     "metadata": {},
     "output_type": "execute_result"
    },
    {
     "data": {
      "image/png": "[encoded data removed]",
      "text/plain": [
       "<Figure size 432x288 with 1 Axes>"
      ]
     },
     "metadata": {
      "needs_background": "light"
     },
     "output_type": "display_data"
    }
   ],
   "source": [
    "mydatabase.plot.scatter( x='ISI' , y ='area')"
   ]
  },
  {
   "cell_type": "code",
   "execution_count": 348,
   "id": "8a9376de",
   "metadata": {},
   "outputs": [
    {
     "data": {
      "text/plain": [
       "0.5541960097502338"
      ]
     },
     "execution_count": 348,
     "metadata": {},
     "output_type": "execute_result"
    }
   ],
   "source": [
    "mydatabase['temp'].corr(mydatabase['area'])\n"
   ]
  },
  {
   "cell_type": "code",
   "execution_count": 349,
   "id": "0debc4c0",
   "metadata": {},
   "outputs": [
    {
     "data": {
      "text/plain": [
       "<AxesSubplot:xlabel='temp', ylabel='area'>"
      ]
     },
     "execution_count": 349,
     "metadata": {},
     "output_type": "execute_result"
    },
    {
     "data": {
      "image/png": "[encoded data removed]",
      "text/plain": [
       "<Figure size 432x288 with 1 Axes>"
      ]
     },
     "metadata": {
      "needs_background": "light"
     },
     "output_type": "display_data"
    }
   ],
   "source": [
    "mydatabase.plot.scatter( x='temp' , y ='area')"
   ]
  },
  {
   "cell_type": "code",
   "execution_count": 351,
   "id": "8e92bd56",
   "metadata": {},
   "outputs": [
    {
     "data": {
      "text/plain": [
       "0.6984242276340387"
      ]
     },
     "execution_count": 351,
     "metadata": {},
     "output_type": "execute_result"
    }
   ],
   "source": [
    "mydatabase['RH'].corr(mydatabase['area'])\n"
   ]
  },
  {
   "cell_type": "code",
   "execution_count": 352,
   "id": "e4dc2ea7",
   "metadata": {},
   "outputs": [
    {
     "data": {
      "text/plain": [
       "<AxesSubplot:xlabel='RH', ylabel='area'>"
      ]
     },
     "execution_count": 352,
     "metadata": {},
     "output_type": "execute_result"
    },
    {
     "data": {
      "image/png": "[encoded data removed]",
      "text/plain": [
       "<Figure size 432x288 with 1 Axes>"
      ]
     },
     "metadata": {
      "needs_background": "light"
     },
     "output_type": "display_data"
    }
   ],
   "source": [
    "mydatabase.plot.scatter( x='RH' , y ='area')"
   ]
  },
  {
   "cell_type": "code",
   "execution_count": 354,
   "id": "17ee155f",
   "metadata": {},
   "outputs": [
    {
     "data": {
      "text/plain": [
       "-0.023323282352087096"
      ]
     },
     "execution_count": 354,
     "metadata": {},
     "output_type": "execute_result"
    }
   ],
   "source": [
    "mydatabase['X'].corr(mydatabase['area'])\n",
    "#weak"
   ]
  },
  {
   "cell_type": "code",
   "execution_count": 355,
   "id": "5ef8cd72",
   "metadata": {},
   "outputs": [
    {
     "data": {
      "text/plain": [
       "<AxesSubplot:xlabel='X', ylabel='area'>"
      ]
     },
     "execution_count": 355,
     "metadata": {},
     "output_type": "execute_result"
    },
    {
     "data": {
      "image/png": "[encoded data removed]",
      "text/plain": [
       "<Figure size 432x288 with 1 Axes>"
      ]
     },
     "metadata": {
      "needs_background": "light"
     },
     "output_type": "display_data"
    }
   ],
   "source": [
    "mydatabase.plot.scatter( x='X' , y ='area')"
   ]
  },
  {
   "cell_type": "code",
   "execution_count": 356,
   "id": "227ebebd",
   "metadata": {},
   "outputs": [
    {
     "data": {
      "text/plain": [
       "0.6282189999847765"
      ]
     },
     "execution_count": 356,
     "metadata": {},
     "output_type": "execute_result"
    }
   ],
   "source": [
    "mydatabase['y'].corr(mydatabase['area'])\n"
   ]
  },
  {
   "cell_type": "code",
   "execution_count": 357,
   "id": "fc53f24f",
   "metadata": {},
   "outputs": [
    {
     "data": {
      "text/plain": [
       "<AxesSubplot:xlabel='y', ylabel='area'>"
      ]
     },
     "execution_count": 357,
     "metadata": {},
     "output_type": "execute_result"
    },
    {
     "data": {
      "image/png": "[encoded data removed]",
      "text/plain": [
       "<Figure size 432x288 with 1 Axes>"
      ]
     },
     "metadata": {
      "needs_background": "light"
     },
     "output_type": "display_data"
    }
   ],
   "source": [
    "mydatabase.plot.scatter( x='y' , y ='area')"
   ]
  },
  {
   "cell_type": "code",
   "execution_count": null,
   "id": "4c94b51c",
   "metadata": {},
   "outputs": [],
   "source": []
  }
 ],
 "metadata": {
  "kernelspec": {
   "display_name": "base",
   "language": "python",
   "name": "python3"
  },
  "language_info": {
   "codemirror_mode": {
    "name": "ipython",
    "version": 3
   },
   "file_extension": ".py",
   "mimetype": "text/x-python",
   "name": "python",
   "nbconvert_exporter": "python",
   "pygments_lexer": "ipython3",
   "version": "3.9.7 (default, Sep 16 2021, 16:59:28) [MSC v.1916 64 bit (AMD64)]"
  },
  "vscode": {
   "interpreter": {
    "hash": "d942bab59f5fd9ad4dd8fa70c1148e0bd7084acd845e53b6857b44d7b0b309b3"
   }
  }
 },
 "nbformat": 4,
 "nbformat_minor": 5
}
